{
 "cells": [
  {
   "cell_type": "markdown",
   "metadata": {},
   "source": [
    "how to create an **array** to manage data. After that, you will learn how\n",
    "to use the Python library **NumPy** to support advanced calculation for your\n",
    "dataset.\n",
    "___\n",
    "### Python List\n",
    "The basic structure in Python that is used to handle a group of data of the\n",
    "same type is called **“Python list”**. List is similar to *array* in other programming\n",
    "languages, but with **more flexibility**. \n",
    "\n",
    "Python list is **resizable**, and the values\n",
    "inside a Python list is **not** necessary to be the _same data type_."
   ]
  },
  {
   "cell_type": "code",
   "execution_count": 20,
   "metadata": {},
   "outputs": [
    {
     "name": "stdout",
     "output_type": "stream",
     "text": [
      "[1, 2, 5]\n"
     ]
    }
   ],
   "source": [
    "a = [1,2,3]\n",
    "a[2] = 5\n",
    "print(a)"
   ]
  },
  {
   "cell_type": "code",
   "execution_count": 1,
   "metadata": {},
   "outputs": [
    {
     "name": "stdout",
     "output_type": "stream",
     "text": [
      "[1, 2, 3]\n",
      "[1, 2, 3, 0, 0, 0, 0, 0]\n"
     ]
    }
   ],
   "source": [
    "# resizeable\n",
    "\n",
    "a = [1,2,3]\n",
    "print(a)\n",
    "a.extend([0]*5)\n",
    "print(a)"
   ]
  },
  {
   "cell_type": "code",
   "execution_count": 6,
   "metadata": {},
   "outputs": [
    {
     "name": "stdout",
     "output_type": "stream",
     "text": [
      "[]\n",
      "['S', 'M', 'L', 'XL']\n"
     ]
    }
   ],
   "source": [
    "# using append\n",
    "\n",
    "size = []\n",
    "print(size)\n",
    "size.append('S')\n",
    "size.append('M')\n",
    "size.append('L')\n",
    "size.append('XL')\n",
    "print(size)"
   ]
  },
  {
   "cell_type": "code",
   "execution_count": 8,
   "metadata": {},
   "outputs": [
    {
     "name": "stdout",
     "output_type": "stream",
     "text": [
      "S M L XL "
     ]
    }
   ],
   "source": [
    "# to print without new line\n",
    "\n",
    "for i in size:\n",
    "    print(i, end=\" \")"
   ]
  },
  {
   "cell_type": "code",
   "execution_count": 9,
   "metadata": {},
   "outputs": [
    {
     "name": "stdout",
     "output_type": "stream",
     "text": [
      "['S', 'M', 'L', 'XL']\n",
      "[28, 30, 32, 34]\n"
     ]
    }
   ],
   "source": [
    "#  if there are multiple Python list in the loop\n",
    "\n",
    "waist_inch = [28, 30, 32, 34]\n",
    "for i in size, waist_inch:\n",
    "    print(i)"
   ]
  },
  {
   "cell_type": "code",
   "execution_count": 10,
   "metadata": {},
   "outputs": [
    {
     "name": "stdout",
     "output_type": "stream",
     "text": [
      "[0, 0, 0, 0]\n"
     ]
    }
   ],
   "source": [
    "# quickly initialize values for a Python list\n",
    "\n",
    "waist_cm = [0 for x in range(4)]\n",
    "print(waist_cm)"
   ]
  },
  {
   "cell_type": "code",
   "execution_count": 11,
   "metadata": {},
   "outputs": [
    {
     "name": "stdout",
     "output_type": "stream",
     "text": [
      "[71.12, 76.2, 81.28, 86.36]\n"
     ]
    }
   ],
   "source": [
    "# change the number ”0” to other number\n",
    "# in this case we convert from inch (in waist_inch) to cm\n",
    "\n",
    "for i in range(len(waist_inch)):\n",
    "    waist_cm[i] = waist_inch[i]*2.54\n",
    "print(waist_cm)"
   ]
  },
  {
   "cell_type": "code",
   "execution_count": 12,
   "metadata": {},
   "outputs": [
    {
     "name": "stdout",
     "output_type": "stream",
     "text": [
      "[93.98, 99.06, 106.68, 114.3]\n"
     ]
    }
   ],
   "source": [
    "# same thing\n",
    "hip_inch = [37,39,42,45]\n",
    "hip_cm = [hip_inch[i]*2.54 for i in range(len(hip_inch))]\n",
    "print(hip_cm)"
   ]
  },
  {
   "cell_type": "code",
   "execution_count": 19,
   "metadata": {},
   "outputs": [
    {
     "name": "stdout",
     "output_type": "stream",
     "text": [
      "['S', 'M', 'L', 'XL']\n",
      "[28, 30, 32, 34]\n",
      "[37, 39, 42, 45]\n",
      "[71.12, 76.2, 81.28, 86.36]\n",
      "[93.98, 99.06, 106.68, 114.3]\n",
      "\n",
      " [['S', 'M', 'L', 'XL'], [28, 30, 32, 34], [37, 39, 42, 45], [71.12, 76.2, 81.28, 86.36], [93.98, 99.06, 106.68, 114.3]]\n"
     ]
    }
   ],
   "source": [
    "size = [['S', 'M', 'L', 'XL'],[28,30,32,34], [37,39,42,45],[],[]]\n",
    "for i in range(len(size[0])):\n",
    "    size[3].append(size[1][i]*2.54)\n",
    "    size[4].append(size[2][i]*2.54)\n",
    "print(*size, sep=\"\\n\")  # sep is used to print new line to each list inside (that's all lol)\n",
    "# without sep\n",
    "print('\\n',size)"
   ]
  },
  {
   "cell_type": "markdown",
   "metadata": {},
   "source": [
    "### NumPy\n",
    "NumPy is one of the widely used Python library. Similar to Python list, the\n",
    "library supports the creation of array. However, NumPy offers better memory\n",
    "management and faster computational speed. Moreover, NumPy offers provides\n",
    "advanced computational tools, especially for Matrix calculation. Then, NumPy\n",
    "is a fundamental package for scientific computing with Python."
   ]
  },
  {
   "cell_type": "code",
   "execution_count": 22,
   "metadata": {},
   "outputs": [
    {
     "name": "stdout",
     "output_type": "stream",
     "text": [
      "[1 2 3]\n",
      "[[ 4  5  6  7]\n",
      " [ 8  9 10 11]]\n"
     ]
    }
   ],
   "source": [
    "import numpy as np\n",
    "a = np.array([1,2,3])\n",
    "b = np.array([(4,5,6,7),(8,9,10,11)])\n",
    "print(a)\n",
    "print(b)"
   ]
  },
  {
   "cell_type": "code",
   "execution_count": 15,
   "metadata": {},
   "outputs": [
    {
     "name": "stdout",
     "output_type": "stream",
     "text": [
      "[3 6 9]\n",
      "[3 6 9]\n",
      "[4 5 6]\n",
      "[4 5 6]\n"
     ]
    }
   ],
   "source": [
    "b = np.array(a)\n",
    "print(a*3)\n",
    "print(b*3)\n",
    "print(a+3)\n",
    "print(b+3)"
   ]
  },
  {
   "cell_type": "code",
   "execution_count": 23,
   "metadata": {},
   "outputs": [
    {
     "name": "stdout",
     "output_type": "stream",
     "text": [
      "[ 0  1  2  3  4  5  6  7  8  9 10 11 12 13 14] \n",
      "\n",
      "[[ 0  1  2  3  4]\n",
      " [ 5  6  7  8  9]\n",
      " [10 11 12 13 14]]\n"
     ]
    }
   ],
   "source": [
    "a = np.arange(15)\n",
    "print(a,'\\n')\n",
    "print(a.reshape(3, 5))"
   ]
  },
  {
   "cell_type": "code",
   "execution_count": 29,
   "metadata": {},
   "outputs": [
    {
     "name": "stdout",
     "output_type": "stream",
     "text": [
      "[[0. 0. 0.]\n",
      " [0. 0. 0.]\n",
      " [0. 0. 0.]] \n",
      "\n",
      "[[1. 1. 1. 1. 1. 1.]\n",
      " [1. 1. 1. 1. 1. 1.]\n",
      " [1. 1. 1. 1. 1. 1.]\n",
      " [1. 1. 1. 1. 1. 1.]\n",
      " [1. 1. 1. 1. 1. 1.]\n",
      " [1. 1. 1. 1. 1. 1.]] \n",
      "\n",
      "[[6.23042070e-307 4.67296746e-307 1.69121096e-306 9.34609111e-307\n",
      "  1.33508845e-306]\n",
      " [1.33511969e-306 6.23037996e-307 6.23053954e-307 9.34609790e-307\n",
      "  8.45593934e-307]\n",
      " [9.34600963e-307 1.86921143e-306 6.23061763e-307 1.78021527e-306\n",
      "  6.23055651e-307]\n",
      " [1.11261434e-306 9.34609790e-307 1.69120688e-306 1.69119330e-306\n",
      "  8.34451079e-308]]\n"
     ]
    }
   ],
   "source": [
    "a = np.zeros((3,3))\n",
    "print(a,'\\n')\n",
    "b = np.ones((6,6))\n",
    "print(b,'\\n')\n",
    "c = np.empty((4,5))\n",
    "print(c)"
   ]
  },
  {
   "cell_type": "code",
   "execution_count": 37,
   "metadata": {},
   "outputs": [
    {
     "name": "stdout",
     "output_type": "stream",
     "text": [
      "9 | (3, 3) | 2 | float64\n",
      "36 | (6, 6) | 2 | float64\n",
      "20 | (4, 5) | 2 | float64\n"
     ]
    }
   ],
   "source": [
    "print(a.size, a.shape, a.ndim, a.dtype, sep=\" | \")\n",
    "print(b.size, b.shape, b.ndim, b.dtype, sep=\" | \")\n",
    "print(c.size, c.shape, c.ndim, c.dtype, sep=\" | \")"
   ]
  },
  {
   "cell_type": "code",
   "execution_count": 38,
   "metadata": {},
   "outputs": [
    {
     "name": "stdout",
     "output_type": "stream",
     "text": [
      "[0 1 2 3]\n",
      "[[0 1 2 3]\n",
      " [4 5 6 7]]\n",
      "[1. 1. 1. 1.]\n",
      "\n",
      "[1. 2. 3. 4.]\n",
      "[[-1.  0.  1.  2.]\n",
      " [ 3.  4.  5.  6.]]\n",
      "[5 6 7 8]\n"
     ]
    }
   ],
   "source": [
    "a = np.arange(4)\n",
    "b = np.arange(8).reshape(2,4)\n",
    "c = np.ones(4)\n",
    "print(a)\n",
    "print(b)\n",
    "print(c)\n",
    "print()\n",
    "print(a+c)\n",
    "print(b-c)\n",
    "print(a+5)"
   ]
  },
  {
   "cell_type": "code",
   "execution_count": 47,
   "metadata": {},
   "outputs": [
    {
     "name": "stdout",
     "output_type": "stream",
     "text": [
      "[[0 1 2 3]\n",
      " [4 5 6 7]]\n",
      "Sum of all a is  6\n",
      "how axis=0 works:  [ 4  6  8 10]\n",
      "min of a  0\n",
      "how axis=1 works:  [3 7]\n",
      "how cumsum and axis=1 works:  [[ 0  1  3  6]\n",
      " [ 4  9 15 22]]\n"
     ]
    }
   ],
   "source": [
    "a = np.arange(4)\n",
    "b = np.arange(8).reshape(2,4)\n",
    "print(b)\n",
    "print('Sum of all a is ',a.sum())\n",
    "print('how axis=0 works: ',b.sum(axis=0))\n",
    "print('min of a ',a.min())\n",
    "print('how axis=1 works: ',b.max(axis=1))\n",
    "print('how cumsum and axis=1 works: ',b.cumsum(axis=1))"
   ]
  },
  {
   "cell_type": "markdown",
   "metadata": {},
   "source": [
    "NumPy allows you to calculate only in a **selected section** of your array via `slicing`."
   ]
  },
  {
   "cell_type": "code",
   "execution_count": 48,
   "metadata": {},
   "outputs": [
    {
     "name": "stdout",
     "output_type": "stream",
     "text": [
      "[ 0  1  2  3  4  5  6  7  8  9 10 11 12 13 14 15 16 17 18 19]\n",
      "[ 3  4  5  6  7  8  9 10]\n",
      "[ 2  7 12]\n",
      "[ 4  9 14 19]\n"
     ]
    }
   ],
   "source": [
    "a = np.arange(20)\n",
    "print(a)\n",
    "print(a[3:11])    # include index=3 to index=11-1=10\n",
    "print(a[2:16:5])  # include index=2 to index=15 step_size=5\n",
    "print(a[4::5])    # include index=4 to end step_size=5"
   ]
  },
  {
   "cell_type": "code",
   "execution_count": 50,
   "metadata": {},
   "outputs": [
    {
     "name": "stdout",
     "output_type": "stream",
     "text": [
      "[[ 0  1  2  3  4]\n",
      " [ 5  6  7  8  9]\n",
      " [10 11 12 13 14]\n",
      " [15 16 17 18 19]\n",
      " [20 21 22 23 24]\n",
      " [25 26 27 28 29]] \n",
      "\n",
      "[[15 16 17 18 19]\n",
      " [20 21 22 23 24]]\n",
      "[[ 5  6  7  8  9]\n",
      " [15 16 17 18 19]\n",
      " [25 26 27 28 29]]\n",
      "[[20 21 22 23 24]\n",
      " [25 26 27 28 29]]\n"
     ]
    }
   ],
   "source": [
    "a = np.arange(30).reshape(6,5)\n",
    "print(a,'\\n')\n",
    "print(a[3:5])     # include row_index=3 to row_index=4\n",
    "print(a[1::2])    # include row_index=1 to end, row_step=2\n",
    "print(a[4:])      # include row_index=4 to end"
   ]
  },
  {
   "cell_type": "code",
   "execution_count": 53,
   "metadata": {},
   "outputs": [
    {
     "name": "stdout",
     "output_type": "stream",
     "text": [
      "[[ 1  2]\n",
      " [ 6  7]\n",
      " [11 12]\n",
      " [16 17]\n",
      " [21 22]]\n",
      "[[ 6  7  8]\n",
      " [11 12 13]\n",
      " [16 17 18]]\n",
      "[[ 1  4]\n",
      " [ 6  9]\n",
      " [11 14]\n",
      " [16 19]\n",
      " [21 24]]\n"
     ]
    }
   ],
   "source": [
    "print(a[0:5, 1:3])     # row_index: 0-4, column_index: 1-2\n",
    "print(a[1:4, 1:4])     # row_index: 1-3, column_index: 1-3\n",
    "print(a[0:5, 1::3])    # row_index: 0-4, column_index: 1 to end, column_step=3"
   ]
  },
  {
   "cell_type": "code",
   "execution_count": 54,
   "metadata": {},
   "outputs": [
    {
     "name": "stdout",
     "output_type": "stream",
     "text": [
      "[['S' 'M' 'L' 'XL']\n",
      " ['28' '30' '32' '34']\n",
      " ['37' '39' '42' '45']]\n",
      "[['L' 'XL']\n",
      " ['32' '34']\n",
      " ['42' '45']]\n"
     ]
    }
   ],
   "source": [
    "size = np.array([['S','M','L','XL'],[28,30,32,34],[37,39,42,45]])\n",
    "print(size)\n",
    "chubby_customer = size[:,2:]   # include every row, column_index: 2 to end\n",
    "print(chubby_customer)"
   ]
  },
  {
   "cell_type": "markdown",
   "metadata": {},
   "source": [
    "if you would like to access\n",
    "each individual value in the array, you need to use `flat` attribute"
   ]
  },
  {
   "cell_type": "code",
   "execution_count": 57,
   "metadata": {},
   "outputs": [
    {
     "name": "stdout",
     "output_type": "stream",
     "text": [
      "[0 1 2 3 4]\n",
      "[5 6 7 8 9]\n",
      "[10 11 12 13 14]\n",
      "[15 16 17 18 19]\n",
      "[20 21 22 23 24]\n",
      "[25 26 27 28 29]\n",
      "0 1 2 3 4 5 6 7 8 9 10 11 12 13 14 15 16 17 18 19 20 21 22 23 24 25 26 27 28 29 "
     ]
    }
   ],
   "source": [
    "for row in a:\n",
    "    print(row)\n",
    "for element in a.flat:\n",
    "    print(element, end=\" \")"
   ]
  },
  {
   "cell_type": "code",
   "execution_count": 60,
   "metadata": {},
   "outputs": [
    {
     "name": "stdout",
     "output_type": "stream",
     "text": [
      "[[1 2 3]\n",
      " [4 5 6]\n",
      " [7 8 9]]\n",
      "[[ 1  3  5]\n",
      " [ 7  9 11]\n",
      " [13 15 17]]\n",
      "[[1 4 7]\n",
      " [2 5 8]\n",
      " [3 6 9]]\n",
      "[[ 54  66  78]\n",
      " [117 147 177]\n",
      " [180 228 276]]\n",
      "[[ 54  66  78]\n",
      " [117 147 177]\n",
      " [180 228 276]]\n"
     ]
    }
   ],
   "source": [
    "# NumPy also has other class for scientific calculation, such as Matrix\n",
    "a = np.matrix([[1,2,3],[4,5,6],[7,8,9]])\n",
    "b = np.matrix([[1,3,5],[7,9,11],[13,15,17]])\n",
    "print(a)\n",
    "print(b)\n",
    "print(a.transpose())\n",
    "print(a*b)\n",
    "print(np.dot(a,b))"
   ]
  }
 ],
 "metadata": {
  "kernelspec": {
   "display_name": "Python 3",
   "language": "python",
   "name": "python3"
  },
  "language_info": {
   "codemirror_mode": {
    "name": "ipython",
    "version": 3
   },
   "file_extension": ".py",
   "mimetype": "text/x-python",
   "name": "python",
   "nbconvert_exporter": "python",
   "pygments_lexer": "ipython3",
   "version": "3.6.5"
  }
 },
 "nbformat": 4,
 "nbformat_minor": 2
}
