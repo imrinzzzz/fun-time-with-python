{
 "cells": [
  {
   "cell_type": "markdown",
   "metadata": {},
   "source": [
    "## Pandas\n",
    "\n",
    "Pandas is one of Python’s packages that makes importing and analyzing data much\n",
    "easier. Pandas builds on packages like NumPy and matplotlib that provides a\n",
    "convenient solution for data analysts. The word pandas is an acronym which is\n",
    "derived from “Python and data analysis” and “panel data”.\n",
    "\n",
    "Python pandas is well suited for different kinds of data, such as:\n",
    "- Tabular data with heterogeneously-typed columns\n",
    "- Ordered and unordered time series data\n",
    "- Arbitrary matrix data with row and column labels\n",
    "- Unlabelled data\n",
    "- Statistical data sets\n",
    "\n",
    "To install Python Pandas, type `conda install pandas`\n",
    "\n",
    "Pandas has **three** data structures: (These data structures are built on top of Numpy array, which means they are fast.)\n",
    "- Series\n",
    "- DataFrame\n",
    "- Panel\n",
    "\n",
    "### pandas.Series\n",
    "Series is a one-dimensional array like structure with homogeneous data. For\n",
    "example, the following series is a collection of integers 10, 23, 56, . . ."
   ]
  },
  {
   "cell_type": "code",
   "execution_count": 1,
   "metadata": {},
   "outputs": [
    {
     "name": "stdout",
     "output_type": "stream",
     "text": [
      "0    a\n",
      "1    b\n",
      "2    c\n",
      "3    d\n",
      "dtype: object\n"
     ]
    }
   ],
   "source": [
    "import pandas as pd    # import the pandas and aliasing as pd\n",
    "import numpy as np\n",
    "data = np.array(['a','b','c','d'])\n",
    "s1 = pd.Series(data)   # using series\n",
    "print(s1)"
   ]
  },
  {
   "cell_type": "code",
   "execution_count": 2,
   "metadata": {},
   "outputs": [
    {
     "name": "stdout",
     "output_type": "stream",
     "text": [
      "0    1\n",
      "1    2\n",
      "2    3\n",
      "3    4\n",
      "dtype: int32\n"
     ]
    }
   ],
   "source": [
    "data = np.array([1,2,3,4])\n",
    "s2 = pd.Series(data)\n",
    "print(s2)"
   ]
  },
  {
   "cell_type": "code",
   "execution_count": 3,
   "metadata": {},
   "outputs": [
    {
     "name": "stdout",
     "output_type": "stream",
     "text": [
      "0    1\n",
      "1    b\n",
      "2    3\n",
      "3    d\n",
      "dtype: object\n"
     ]
    }
   ],
   "source": [
    "data = np.array([1,'b',3,'d'])   # heterogeneous type series\n",
    "s3 = pd.Series(data)\n",
    "print(s3)"
   ]
  },
  {
   "cell_type": "code",
   "execution_count": 47,
   "metadata": {},
   "outputs": [
    {
     "name": "stdout",
     "output_type": "stream",
     "text": [
      "100    a\n",
      "101    b\n",
      "102    c\n",
      "103    d\n",
      "dtype: object\n"
     ]
    }
   ],
   "source": [
    "data = np.array(['a','b','c','d'])\n",
    "s = pd.Series(data, index=[100,101,102,103])   # can change index\n",
    "print(s)"
   ]
  },
  {
   "cell_type": "code",
   "execution_count": 57,
   "metadata": {},
   "outputs": [
    {
     "name": "stdout",
     "output_type": "stream",
     "text": [
      "1\n"
     ]
    }
   ],
   "source": [
    "s4 = pd.Series([1,2,3,4,5], index = ['a','b','c','d','e'])\n",
    "print(s4[0])"
   ]
  },
  {
   "cell_type": "code",
   "execution_count": 58,
   "metadata": {},
   "outputs": [
    {
     "name": "stdout",
     "output_type": "stream",
     "text": [
      "a    1\n",
      "b    2\n",
      "c    3\n",
      "dtype: int64\n",
      "1\n",
      "2\n",
      "3\n"
     ]
    }
   ],
   "source": [
    "print(s4[0:3])   # access first 3 data\n",
    "# or\n",
    "for i in range(3):\n",
    "    print(s4[i])"
   ]
  },
  {
   "cell_type": "code",
   "execution_count": 8,
   "metadata": {},
   "outputs": [
    {
     "data": {
      "text/plain": [
       "a    1\n",
       "dtype: int64"
      ]
     },
     "execution_count": 8,
     "metadata": {},
     "output_type": "execute_result"
    }
   ],
   "source": [
    "s4[['a']]   # access using 'a'"
   ]
  },
  {
   "cell_type": "code",
   "execution_count": 9,
   "metadata": {},
   "outputs": [
    {
     "name": "stdout",
     "output_type": "stream",
     "text": [
      "a    1\n",
      "b    2\n",
      "c    3\n",
      "d    4\n",
      "dtype: int64\n"
     ]
    }
   ],
   "source": [
    "#retrieve multiple elements\n",
    "print(s4[['a','b','c','d']])"
   ]
  },
  {
   "cell_type": "markdown",
   "metadata": {},
   "source": [
    "### pandas.DataFrame()\n",
    "A Data frame is a two-dimensional data structure, i.e., data is aligned in a\n",
    "tabular fashion in rows and columns"
   ]
  },
  {
   "cell_type": "code",
   "execution_count": 59,
   "metadata": {},
   "outputs": [
    {
     "name": "stdout",
     "output_type": "stream",
     "text": [
      "Empty DataFrame\n",
      "Columns: []\n",
      "Index: []\n"
     ]
    }
   ],
   "source": [
    "df = pd.DataFrame()\n",
    "print(df)   # output as Empty DataFrame"
   ]
  },
  {
   "cell_type": "markdown",
   "metadata": {},
   "source": [
    "**The DataFrame can be created using a single list or a list of lists**"
   ]
  },
  {
   "cell_type": "code",
   "execution_count": 60,
   "metadata": {},
   "outputs": [
    {
     "name": "stdout",
     "output_type": "stream",
     "text": [
      "   0\n",
      "0  1\n",
      "1  2\n",
      "2  3\n",
      "3  4\n",
      "4  5\n",
      "\n",
      "     Name  Age\n",
      "0    Alex   10\n",
      "1     Bob   12\n",
      "2  Clarke   13\n"
     ]
    }
   ],
   "source": [
    "data = [1,2,3,4,5]\n",
    "df1 = pd.DataFrame(data)\n",
    "print(df1)\n",
    "print()\n",
    "data = [['Alex',10], ['Bob',12],['Clarke',13]]\n",
    "df2 = pd.DataFrame(data,columns=['Name','Age'])\n",
    "print(df2)"
   ]
  },
  {
   "cell_type": "markdown",
   "metadata": {},
   "source": [
    "**Create a DataFrame from Dict of ndarrays / Lists**  \n",
    "All the ndarrays must be of same length. If index is passed, then the length of\n",
    "the index should be equal to the length of the arrays."
   ]
  },
  {
   "cell_type": "code",
   "execution_count": 62,
   "metadata": {},
   "outputs": [
    {
     "name": "stdout",
     "output_type": "stream",
     "text": [
      "    Name  Age\n",
      "0    Tom   28\n",
      "1   Jack   34\n",
      "2  Steve   29\n",
      "3  Ricky   42\n"
     ]
    }
   ],
   "source": [
    "data = {'Name':['Tom', 'Jack', 'Steve', 'Ricky'],\n",
    "        'Age':[28,34,29,42]}\n",
    "df = pd.DataFrame(data)\n",
    "print(df)"
   ]
  },
  {
   "cell_type": "markdown",
   "metadata": {},
   "source": [
    "**Create a DataFrame from Dict of Series**  \n",
    "Dictionary of Series can be also passed to form a DataFrame."
   ]
  },
  {
   "cell_type": "code",
   "execution_count": 61,
   "metadata": {},
   "outputs": [
    {
     "name": "stdout",
     "output_type": "stream",
     "text": [
      "   one  two\n",
      "a  1.0    1\n",
      "b  2.0    2\n",
      "c  3.0    3\n",
      "d  NaN    4\n"
     ]
    }
   ],
   "source": [
    "d = {\n",
    "    'one' : pd.Series([1,2,3], index=['a','b','c']),\n",
    "    'two' : pd.Series([1,2,3,4], index=['a','b','c','d'])\n",
    "}\n",
    "df = pd.DataFrame(d)\n",
    "print(df)"
   ]
  },
  {
   "cell_type": "markdown",
   "metadata": {},
   "source": [
    "<img src=\"table.png\">"
   ]
  },
  {
   "cell_type": "code",
   "execution_count": 74,
   "metadata": {},
   "outputs": [
    {
     "name": "stdout",
     "output_type": "stream",
     "text": [
      "   Math  C_programming  Java  Web_programming\n",
      "0    90             70    50               55\n",
      "1    10             20    41               66\n",
      "2    34             25    67               23\n",
      "3    23             32    34               76\n",
      "4    43             73    23               67\n"
     ]
    }
   ],
   "source": [
    "# turn the table into data frame\n",
    "data_s = {\n",
    "    'Math' : pd.Series([90,10,34,23,43]),\n",
    "    'C_programming' : pd.Series([70,20,25,32,73]),\n",
    "    'Java' : pd.Series([50,41,67,34,23]),\n",
    "    'Web_programming' : pd.Series([55,66,23,76,67])\n",
    "}\n",
    "studentDF = pd.DataFrame(data_s)\n",
    "print(studentDF)"
   ]
  },
  {
   "cell_type": "code",
   "execution_count": 65,
   "metadata": {},
   "outputs": [
    {
     "name": "stdout",
     "output_type": "stream",
     "text": [
      "   Math  C_programming  Java  Web_programming\n",
      "0  90.0           70.0  50.0             55.0\n",
      "1  10.0           20.0  41.0             66.0\n",
      "2  34.0           25.0  67.0             23.0\n",
      "3  23.0           32.0  34.0             76.0\n",
      "4  43.0           73.0  23.0             67.0\n",
      "5  59.0           37.0  84.0             82.0\n",
      "6   NaN            NaN   NaN              NaN\n",
      "7   NaN            NaN   NaN              NaN\n",
      "\n",
      "   Math  C_programming  Java  Web_programming\n",
      "2  34.0           25.0  67.0             23.0\n",
      "3  23.0           32.0  34.0             76.0\n",
      "\n",
      "Math               90.0\n",
      "C_programming      70.0\n",
      "Java               50.0\n",
      "Web_programming    55.0\n",
      "Name: 0, dtype: float64\n",
      "\n",
      "   Math  C_programming  Java  Web_programming\n",
      "2  34.0           25.0  67.0             23.0\n",
      "3  23.0           32.0  34.0             76.0\n",
      "4  43.0           73.0  23.0             67.0\n"
     ]
    }
   ],
   "source": [
    "df = studentDF\n",
    "print(df)\n",
    "print()\n",
    "\n",
    "print(df[2:4]) #slice rows (index: 2-3)\n",
    "print()\n",
    "\n",
    "print(df.loc[0]) #print selected row (row=0)\n",
    "print()\n",
    "\n",
    "print(df.loc[2:4])  # slice rows (index: 2-4) -> different from df[2:4]\n",
    "\n",
    "# Note that rows can be selected by passing row label to a loc function"
   ]
  },
  {
   "cell_type": "code",
   "execution_count": 72,
   "metadata": {},
   "outputs": [
    {
     "name": "stdout",
     "output_type": "stream",
     "text": [
      "   a  b\n",
      "0  1  2\n",
      "1  3  4\n",
      "0  5  6\n",
      "1  7  8\n"
     ]
    }
   ],
   "source": [
    "# To add new rows to a DataFrame, you can use the [append] function\n",
    "df = pd.DataFrame([[1,2],[3,4]], columns = ['a','b'])\n",
    "df2 = pd.DataFrame([[5,6],[7,8]], columns = ['a','b'])\n",
    "\n",
    "df = df.append(df2)  # add new rows\n",
    "# df.index = np.array([1,2,3,4])\n",
    "# or df.index = range(4)\n",
    "print(df)"
   ]
  },
  {
   "cell_type": "markdown",
   "metadata": {},
   "source": [
    "add new roles to studentDF\n",
    "<img src=\"table2.png\">"
   ]
  },
  {
   "cell_type": "code",
   "execution_count": 75,
   "metadata": {},
   "outputs": [
    {
     "name": "stdout",
     "output_type": "stream",
     "text": [
      "   Math  C_programming  Java  Web_programming\n",
      "0    90             70    50               55\n",
      "1    10             20    41               66\n",
      "2    34             25    67               23\n",
      "3    23             32    34               76\n",
      "4    43             73    23               67\n",
      "5    59             37    84               82\n",
      "6    41             34    73               55\n"
     ]
    }
   ],
   "source": [
    "data = {\n",
    "    'Math' : pd.Series([59,41], index=[5,6]),\n",
    "    'C_programming' : pd.Series([37,34], index=[5,6]),\n",
    "    'Java' : pd.Series([84,73], index=[5,6]),\n",
    "    'Web_programming' : pd.Series([82,55], index=[5,6])\n",
    "}\n",
    "df = pd.DataFrame(data)\n",
    "studentDF = studentDF.append(df)\n",
    "print(studentDF)"
   ]
  },
  {
   "cell_type": "code",
   "execution_count": 18,
   "metadata": {
    "scrolled": true
   },
   "outputs": [
    {
     "name": "stdout",
     "output_type": "stream",
     "text": [
      "   a  b\n",
      "0  1  2\n",
      "1  3  4\n",
      "0  5  6\n",
      "1  7  8\n",
      "\n",
      "   a  b\n",
      "1  3  4\n",
      "1  7  8\n"
     ]
    }
   ],
   "source": [
    "df = pd.DataFrame([[1,2],[3,4]], columns = ['a','b'])\n",
    "df2 = pd.DataFrame([[5,6],[7,8]], columns = ['a','b'])\n",
    "df = df.append(df2)\n",
    "print(df)\n",
    "\n",
    "print()\n",
    "\n",
    "# To delete rows, you can use index label to delete or drop rows from a DataFrame.\n",
    "# If label is duplicated, then multiple rows will be dropped\n",
    "# Drop rows with label 0\n",
    "df = df.drop(0)\n",
    "print(df)"
   ]
  },
  {
   "cell_type": "code",
   "execution_count": 76,
   "metadata": {},
   "outputs": [
    {
     "name": "stdout",
     "output_type": "stream",
     "text": [
      "   Math  C_programming  Java  Web_programming\n",
      "0    90             70    50               55\n",
      "1    10             20    41               66\n",
      "2    34             25    67               23\n",
      "3    23             32    34               76\n",
      "4    43             73    23               67\n",
      "5    59             37    84               82\n"
     ]
    }
   ],
   "source": [
    "studentDF = studentDF.drop(6)    # remove last row of studentDF\n",
    "print(studentDF)"
   ]
  },
  {
   "cell_type": "markdown",
   "metadata": {},
   "source": [
    "### Descriptive Statistics\n",
    "A large number of methods collectively compute descriptive statistics and other\n",
    "related operations on DataFrame. In this practice, you will explore those functions\n",
    "and apply it on table studentDF."
   ]
  },
  {
   "cell_type": "code",
   "execution_count": 77,
   "metadata": {},
   "outputs": [
    {
     "name": "stdout",
     "output_type": "stream",
     "text": [
      "    Name  Age\n",
      "0    Tom   28\n",
      "1   Jack   34\n",
      "2  Steve   29\n",
      "3  Ricky   42\n",
      "\n"
     ]
    },
    {
     "data": {
      "text/plain": [
       "Name    TomJackSteveRicky\n",
       "Age                   133\n",
       "dtype: object"
      ]
     },
     "execution_count": 77,
     "metadata": {},
     "output_type": "execute_result"
    }
   ],
   "source": [
    "data = {'Name':['Tom', 'Jack', 'Steve', 'Ricky'],'Age':[28,34,29,42]}\n",
    "df = pd.DataFrame(data)\n",
    "print(df)\n",
    "print()\n",
    "df.sum()      # using sum()"
   ]
  },
  {
   "cell_type": "code",
   "execution_count": 79,
   "metadata": {},
   "outputs": [
    {
     "data": {
      "text/plain": [
       "Math               259\n",
       "C_programming      257\n",
       "Java               299\n",
       "Web_programming    369\n",
       "dtype: int64"
      ]
     },
     "execution_count": 79,
     "metadata": {},
     "output_type": "execute_result"
    }
   ],
   "source": [
    "studentDF.sum() # or studentDF.sum(axis=0)"
   ]
  },
  {
   "cell_type": "code",
   "execution_count": 23,
   "metadata": {},
   "outputs": [
    {
     "data": {
      "text/plain": [
       "0    265\n",
       "1    137\n",
       "2    149\n",
       "3    165\n",
       "4    206\n",
       "5    262\n",
       "dtype: int64"
      ]
     },
     "execution_count": 23,
     "metadata": {},
     "output_type": "execute_result"
    }
   ],
   "source": [
    "studentDF.sum(axis=1)"
   ]
  },
  {
   "cell_type": "code",
   "execution_count": 24,
   "metadata": {},
   "outputs": [
    {
     "data": {
      "text/plain": [
       "Math               6\n",
       "C_programming      6\n",
       "Java               6\n",
       "Web_programming    6\n",
       "dtype: int64"
      ]
     },
     "execution_count": 24,
     "metadata": {},
     "output_type": "execute_result"
    }
   ],
   "source": [
    "studentDF.count()"
   ]
  },
  {
   "cell_type": "code",
   "execution_count": 25,
   "metadata": {},
   "outputs": [
    {
     "data": {
      "text/plain": [
       "Math               43.166667\n",
       "C_programming      42.833333\n",
       "Java               49.833333\n",
       "Web_programming    61.500000\n",
       "dtype: float64"
      ]
     },
     "execution_count": 25,
     "metadata": {},
     "output_type": "execute_result"
    }
   ],
   "source": [
    "studentDF.mean()"
   ]
  },
  {
   "cell_type": "code",
   "execution_count": 26,
   "metadata": {},
   "outputs": [
    {
     "data": {
      "text/plain": [
       "Math               38.5\n",
       "C_programming      34.5\n",
       "Java               45.5\n",
       "Web_programming    66.5\n",
       "dtype: float64"
      ]
     },
     "execution_count": 26,
     "metadata": {},
     "output_type": "execute_result"
    }
   ],
   "source": [
    "studentDF.median()"
   ]
  },
  {
   "cell_type": "code",
   "execution_count": 27,
   "metadata": {},
   "outputs": [
    {
     "data": {
      "text/html": [
       "<div>\n",
       "<style scoped>\n",
       "    .dataframe tbody tr th:only-of-type {\n",
       "        vertical-align: middle;\n",
       "    }\n",
       "\n",
       "    .dataframe tbody tr th {\n",
       "        vertical-align: top;\n",
       "    }\n",
       "\n",
       "    .dataframe thead th {\n",
       "        text-align: right;\n",
       "    }\n",
       "</style>\n",
       "<table border=\"1\" class=\"dataframe\">\n",
       "  <thead>\n",
       "    <tr style=\"text-align: right;\">\n",
       "      <th></th>\n",
       "      <th>Math</th>\n",
       "      <th>C_programming</th>\n",
       "      <th>Java</th>\n",
       "      <th>Web_programming</th>\n",
       "    </tr>\n",
       "  </thead>\n",
       "  <tbody>\n",
       "    <tr>\n",
       "      <th>0</th>\n",
       "      <td>10</td>\n",
       "      <td>20</td>\n",
       "      <td>23</td>\n",
       "      <td>23</td>\n",
       "    </tr>\n",
       "    <tr>\n",
       "      <th>1</th>\n",
       "      <td>23</td>\n",
       "      <td>25</td>\n",
       "      <td>34</td>\n",
       "      <td>55</td>\n",
       "    </tr>\n",
       "    <tr>\n",
       "      <th>2</th>\n",
       "      <td>34</td>\n",
       "      <td>32</td>\n",
       "      <td>41</td>\n",
       "      <td>66</td>\n",
       "    </tr>\n",
       "    <tr>\n",
       "      <th>3</th>\n",
       "      <td>43</td>\n",
       "      <td>37</td>\n",
       "      <td>50</td>\n",
       "      <td>67</td>\n",
       "    </tr>\n",
       "    <tr>\n",
       "      <th>4</th>\n",
       "      <td>59</td>\n",
       "      <td>70</td>\n",
       "      <td>67</td>\n",
       "      <td>76</td>\n",
       "    </tr>\n",
       "    <tr>\n",
       "      <th>5</th>\n",
       "      <td>90</td>\n",
       "      <td>73</td>\n",
       "      <td>84</td>\n",
       "      <td>82</td>\n",
       "    </tr>\n",
       "  </tbody>\n",
       "</table>\n",
       "</div>"
      ],
      "text/plain": [
       "   Math  C_programming  Java  Web_programming\n",
       "0    10             20    23               23\n",
       "1    23             25    34               55\n",
       "2    34             32    41               66\n",
       "3    43             37    50               67\n",
       "4    59             70    67               76\n",
       "5    90             73    84               82"
      ]
     },
     "execution_count": 27,
     "metadata": {},
     "output_type": "execute_result"
    }
   ],
   "source": [
    "studentDF.mode()"
   ]
  },
  {
   "cell_type": "code",
   "execution_count": 28,
   "metadata": {},
   "outputs": [
    {
     "data": {
      "text/plain": [
       "Math               28.407159\n",
       "C_programming      22.973173\n",
       "Java               22.409076\n",
       "Web_programming    21.002381\n",
       "dtype: float64"
      ]
     },
     "execution_count": 28,
     "metadata": {},
     "output_type": "execute_result"
    }
   ],
   "source": [
    "studentDF.std()      # standard deviation"
   ]
  },
  {
   "cell_type": "code",
   "execution_count": 29,
   "metadata": {},
   "outputs": [
    {
     "data": {
      "text/plain": [
       "Math               10\n",
       "C_programming      20\n",
       "Java               23\n",
       "Web_programming    23\n",
       "dtype: int64"
      ]
     },
     "execution_count": 29,
     "metadata": {},
     "output_type": "execute_result"
    }
   ],
   "source": [
    "studentDF.min()"
   ]
  },
  {
   "cell_type": "code",
   "execution_count": 30,
   "metadata": {},
   "outputs": [
    {
     "data": {
      "text/plain": [
       "Math               90\n",
       "C_programming      73\n",
       "Java               84\n",
       "Web_programming    82\n",
       "dtype: int64"
      ]
     },
     "execution_count": 30,
     "metadata": {},
     "output_type": "execute_result"
    }
   ],
   "source": [
    "studentDF.max()"
   ]
  },
  {
   "cell_type": "code",
   "execution_count": 31,
   "metadata": {},
   "outputs": [
    {
     "data": {
      "text/html": [
       "<div>\n",
       "<style scoped>\n",
       "    .dataframe tbody tr th:only-of-type {\n",
       "        vertical-align: middle;\n",
       "    }\n",
       "\n",
       "    .dataframe tbody tr th {\n",
       "        vertical-align: top;\n",
       "    }\n",
       "\n",
       "    .dataframe thead th {\n",
       "        text-align: right;\n",
       "    }\n",
       "</style>\n",
       "<table border=\"1\" class=\"dataframe\">\n",
       "  <thead>\n",
       "    <tr style=\"text-align: right;\">\n",
       "      <th></th>\n",
       "      <th>Math</th>\n",
       "      <th>C_programming</th>\n",
       "      <th>Java</th>\n",
       "      <th>Web_programming</th>\n",
       "    </tr>\n",
       "  </thead>\n",
       "  <tbody>\n",
       "    <tr>\n",
       "      <th>0</th>\n",
       "      <td>90</td>\n",
       "      <td>70</td>\n",
       "      <td>50</td>\n",
       "      <td>55</td>\n",
       "    </tr>\n",
       "    <tr>\n",
       "      <th>1</th>\n",
       "      <td>10</td>\n",
       "      <td>20</td>\n",
       "      <td>41</td>\n",
       "      <td>66</td>\n",
       "    </tr>\n",
       "    <tr>\n",
       "      <th>2</th>\n",
       "      <td>34</td>\n",
       "      <td>25</td>\n",
       "      <td>67</td>\n",
       "      <td>23</td>\n",
       "    </tr>\n",
       "    <tr>\n",
       "      <th>3</th>\n",
       "      <td>23</td>\n",
       "      <td>32</td>\n",
       "      <td>34</td>\n",
       "      <td>76</td>\n",
       "    </tr>\n",
       "    <tr>\n",
       "      <th>4</th>\n",
       "      <td>43</td>\n",
       "      <td>73</td>\n",
       "      <td>23</td>\n",
       "      <td>67</td>\n",
       "    </tr>\n",
       "    <tr>\n",
       "      <th>5</th>\n",
       "      <td>59</td>\n",
       "      <td>37</td>\n",
       "      <td>84</td>\n",
       "      <td>82</td>\n",
       "    </tr>\n",
       "  </tbody>\n",
       "</table>\n",
       "</div>"
      ],
      "text/plain": [
       "   Math  C_programming  Java  Web_programming\n",
       "0    90             70    50               55\n",
       "1    10             20    41               66\n",
       "2    34             25    67               23\n",
       "3    23             32    34               76\n",
       "4    43             73    23               67\n",
       "5    59             37    84               82"
      ]
     },
     "execution_count": 31,
     "metadata": {},
     "output_type": "execute_result"
    }
   ],
   "source": [
    "studentDF.abs()     # absolute of value"
   ]
  },
  {
   "cell_type": "code",
   "execution_count": 32,
   "metadata": {},
   "outputs": [
    {
     "data": {
      "text/plain": [
       "Math                1785540600\n",
       "C_programming       3025120000\n",
       "Java                9022246800\n",
       "Web_programming    34860748560\n",
       "dtype: int64"
      ]
     },
     "execution_count": 32,
     "metadata": {},
     "output_type": "execute_result"
    }
   ],
   "source": [
    "studentDF.prod()     # Product of Values"
   ]
  },
  {
   "cell_type": "code",
   "execution_count": 33,
   "metadata": {},
   "outputs": [
    {
     "data": {
      "text/html": [
       "<div>\n",
       "<style scoped>\n",
       "    .dataframe tbody tr th:only-of-type {\n",
       "        vertical-align: middle;\n",
       "    }\n",
       "\n",
       "    .dataframe tbody tr th {\n",
       "        vertical-align: top;\n",
       "    }\n",
       "\n",
       "    .dataframe thead th {\n",
       "        text-align: right;\n",
       "    }\n",
       "</style>\n",
       "<table border=\"1\" class=\"dataframe\">\n",
       "  <thead>\n",
       "    <tr style=\"text-align: right;\">\n",
       "      <th></th>\n",
       "      <th>Math</th>\n",
       "      <th>C_programming</th>\n",
       "      <th>Java</th>\n",
       "      <th>Web_programming</th>\n",
       "    </tr>\n",
       "  </thead>\n",
       "  <tbody>\n",
       "    <tr>\n",
       "      <th>0</th>\n",
       "      <td>90</td>\n",
       "      <td>70</td>\n",
       "      <td>50</td>\n",
       "      <td>55</td>\n",
       "    </tr>\n",
       "    <tr>\n",
       "      <th>1</th>\n",
       "      <td>100</td>\n",
       "      <td>90</td>\n",
       "      <td>91</td>\n",
       "      <td>121</td>\n",
       "    </tr>\n",
       "    <tr>\n",
       "      <th>2</th>\n",
       "      <td>134</td>\n",
       "      <td>115</td>\n",
       "      <td>158</td>\n",
       "      <td>144</td>\n",
       "    </tr>\n",
       "    <tr>\n",
       "      <th>3</th>\n",
       "      <td>157</td>\n",
       "      <td>147</td>\n",
       "      <td>192</td>\n",
       "      <td>220</td>\n",
       "    </tr>\n",
       "    <tr>\n",
       "      <th>4</th>\n",
       "      <td>200</td>\n",
       "      <td>220</td>\n",
       "      <td>215</td>\n",
       "      <td>287</td>\n",
       "    </tr>\n",
       "    <tr>\n",
       "      <th>5</th>\n",
       "      <td>259</td>\n",
       "      <td>257</td>\n",
       "      <td>299</td>\n",
       "      <td>369</td>\n",
       "    </tr>\n",
       "  </tbody>\n",
       "</table>\n",
       "</div>"
      ],
      "text/plain": [
       "   Math  C_programming  Java  Web_programming\n",
       "0    90             70    50               55\n",
       "1   100             90    91              121\n",
       "2   134            115   158              144\n",
       "3   157            147   192              220\n",
       "4   200            220   215              287\n",
       "5   259            257   299              369"
      ]
     },
     "execution_count": 33,
     "metadata": {},
     "output_type": "execute_result"
    }
   ],
   "source": [
    "studentDF.cumsum()      # cumulative sum"
   ]
  },
  {
   "cell_type": "code",
   "execution_count": 34,
   "metadata": {},
   "outputs": [
    {
     "data": {
      "text/html": [
       "<div>\n",
       "<style scoped>\n",
       "    .dataframe tbody tr th:only-of-type {\n",
       "        vertical-align: middle;\n",
       "    }\n",
       "\n",
       "    .dataframe tbody tr th {\n",
       "        vertical-align: top;\n",
       "    }\n",
       "\n",
       "    .dataframe thead th {\n",
       "        text-align: right;\n",
       "    }\n",
       "</style>\n",
       "<table border=\"1\" class=\"dataframe\">\n",
       "  <thead>\n",
       "    <tr style=\"text-align: right;\">\n",
       "      <th></th>\n",
       "      <th>Math</th>\n",
       "      <th>C_programming</th>\n",
       "      <th>Java</th>\n",
       "      <th>Web_programming</th>\n",
       "    </tr>\n",
       "  </thead>\n",
       "  <tbody>\n",
       "    <tr>\n",
       "      <th>0</th>\n",
       "      <td>90</td>\n",
       "      <td>70</td>\n",
       "      <td>50</td>\n",
       "      <td>55</td>\n",
       "    </tr>\n",
       "    <tr>\n",
       "      <th>1</th>\n",
       "      <td>900</td>\n",
       "      <td>1400</td>\n",
       "      <td>2050</td>\n",
       "      <td>3630</td>\n",
       "    </tr>\n",
       "    <tr>\n",
       "      <th>2</th>\n",
       "      <td>30600</td>\n",
       "      <td>35000</td>\n",
       "      <td>137350</td>\n",
       "      <td>83490</td>\n",
       "    </tr>\n",
       "    <tr>\n",
       "      <th>3</th>\n",
       "      <td>703800</td>\n",
       "      <td>1120000</td>\n",
       "      <td>4669900</td>\n",
       "      <td>6345240</td>\n",
       "    </tr>\n",
       "    <tr>\n",
       "      <th>4</th>\n",
       "      <td>30263400</td>\n",
       "      <td>81760000</td>\n",
       "      <td>107407700</td>\n",
       "      <td>425131080</td>\n",
       "    </tr>\n",
       "    <tr>\n",
       "      <th>5</th>\n",
       "      <td>1785540600</td>\n",
       "      <td>3025120000</td>\n",
       "      <td>9022246800</td>\n",
       "      <td>34860748560</td>\n",
       "    </tr>\n",
       "  </tbody>\n",
       "</table>\n",
       "</div>"
      ],
      "text/plain": [
       "         Math  C_programming        Java  Web_programming\n",
       "0          90             70          50               55\n",
       "1         900           1400        2050             3630\n",
       "2       30600          35000      137350            83490\n",
       "3      703800        1120000     4669900          6345240\n",
       "4    30263400       81760000   107407700        425131080\n",
       "5  1785540600     3025120000  9022246800      34860748560"
      ]
     },
     "execution_count": 34,
     "metadata": {},
     "output_type": "execute_result"
    }
   ],
   "source": [
    "studentDF.cumprod()     #  Cumulative Product"
   ]
  },
  {
   "cell_type": "code",
   "execution_count": 35,
   "metadata": {},
   "outputs": [],
   "source": [
    "import pandas as pd\n",
    "import numpy as np"
   ]
  },
  {
   "cell_type": "code",
   "execution_count": 80,
   "metadata": {},
   "outputs": [
    {
     "data": {
      "text/html": [
       "<div>\n",
       "<style scoped>\n",
       "    .dataframe tbody tr th:only-of-type {\n",
       "        vertical-align: middle;\n",
       "    }\n",
       "\n",
       "    .dataframe tbody tr th {\n",
       "        vertical-align: top;\n",
       "    }\n",
       "\n",
       "    .dataframe thead th {\n",
       "        text-align: right;\n",
       "    }\n",
       "</style>\n",
       "<table border=\"1\" class=\"dataframe\">\n",
       "  <thead>\n",
       "    <tr style=\"text-align: right;\">\n",
       "      <th></th>\n",
       "      <th>Age</th>\n",
       "      <th>Rating</th>\n",
       "    </tr>\n",
       "  </thead>\n",
       "  <tbody>\n",
       "    <tr>\n",
       "      <th>count</th>\n",
       "      <td>12.000000</td>\n",
       "      <td>12.000000</td>\n",
       "    </tr>\n",
       "    <tr>\n",
       "      <th>mean</th>\n",
       "      <td>31.833333</td>\n",
       "      <td>3.743333</td>\n",
       "    </tr>\n",
       "    <tr>\n",
       "      <th>std</th>\n",
       "      <td>9.232682</td>\n",
       "      <td>0.661628</td>\n",
       "    </tr>\n",
       "    <tr>\n",
       "      <th>min</th>\n",
       "      <td>23.000000</td>\n",
       "      <td>2.560000</td>\n",
       "    </tr>\n",
       "    <tr>\n",
       "      <th>25%</th>\n",
       "      <td>25.000000</td>\n",
       "      <td>3.230000</td>\n",
       "    </tr>\n",
       "    <tr>\n",
       "      <th>50%</th>\n",
       "      <td>29.500000</td>\n",
       "      <td>3.790000</td>\n",
       "    </tr>\n",
       "    <tr>\n",
       "      <th>75%</th>\n",
       "      <td>35.500000</td>\n",
       "      <td>4.132500</td>\n",
       "    </tr>\n",
       "    <tr>\n",
       "      <th>max</th>\n",
       "      <td>51.000000</td>\n",
       "      <td>4.800000</td>\n",
       "    </tr>\n",
       "  </tbody>\n",
       "</table>\n",
       "</div>"
      ],
      "text/plain": [
       "             Age     Rating\n",
       "count  12.000000  12.000000\n",
       "mean   31.833333   3.743333\n",
       "std     9.232682   0.661628\n",
       "min    23.000000   2.560000\n",
       "25%    25.000000   3.230000\n",
       "50%    29.500000   3.790000\n",
       "75%    35.500000   4.132500\n",
       "max    51.000000   4.800000"
      ]
     },
     "execution_count": 80,
     "metadata": {},
     "output_type": "execute_result"
    }
   ],
   "source": [
    "# create a dictionary of series\n",
    "d = {\n",
    "    'Name' : pd.Series(['Tom','James','Ricky','Vin','Steve','Smith','Jack',\n",
    "                       'Lee','David','Gasper','Betina','Andres']),\n",
    "    'Age' : pd.Series([25,26,25,23,30,29,23,34,40,30,51,46]),\n",
    "    'Rating' : pd.Series([4.23,3.24,3.98,2.56,3.20,4.6,3.8,3.78,2.98,\n",
    "                          4.80,4.10,3.65])\n",
    "}\n",
    "\n",
    "# create dataframe\n",
    "df = pd.DataFrame(d)\n",
    "df.describe()          # using describe to see all the information"
   ]
  },
  {
   "cell_type": "code",
   "execution_count": 81,
   "metadata": {},
   "outputs": [
    {
     "name": "stdout",
     "output_type": "stream",
     "text": [
      "   Math  C_programming  Java  Web_programming\n",
      "0  90.0           70.0  50.0             55.0\n",
      "1  10.0           20.0  41.0             66.0\n",
      "2  34.0           25.0  67.0             23.0\n",
      "3  23.0           32.0  34.0             76.0\n",
      "4  43.0           73.0  23.0             67.0\n",
      "5  59.0           37.0  84.0             82.0\n",
      "6   NaN            NaN   NaN              NaN\n",
      "7   NaN            NaN   NaN              NaN\n"
     ]
    }
   ],
   "source": [
    "studentDF = studentDF.reindex([0,1,2,3,4,5,6,7])   # using reindex\n",
    "print(studentDF)\n",
    "# NaN means ‘Not a Number’"
   ]
  },
  {
   "cell_type": "code",
   "execution_count": 87,
   "metadata": {},
   "outputs": [
    {
     "name": "stdout",
     "output_type": "stream",
     "text": [
      "a    False\n",
      "b     True\n",
      "c    False\n",
      "d     True\n",
      "e    False\n",
      "f    False\n",
      "g     True\n",
      "h    False\n",
      "Name: one, dtype: bool\n",
      "a     True\n",
      "b    False\n",
      "c     True\n",
      "d    False\n",
      "e     True\n",
      "f     True\n",
      "g    False\n",
      "h     True\n",
      "Name: two, dtype: bool\n"
     ]
    }
   ],
   "source": [
    "df = pd.DataFrame(np.random.randn(5,3), index=['a','c','e','f','h'],    \n",
    "                  columns=['one','two','three'])\n",
    "df = df.reindex(['a','b','c','d','e','f','g','h'])\n",
    "# random.randn(5,3) -> 2D array filled with random number (5 rows, 3 columns)\n",
    "\n",
    "print(df['one'].isnull())   # check if it's empty\n",
    "print(df['two'].notnull())  # check if it's NOT empty"
   ]
  },
  {
   "cell_type": "code",
   "execution_count": 86,
   "metadata": {},
   "outputs": [
    {
     "name": "stdout",
     "output_type": "stream",
     "text": [
      "   Math  C_programming  Java  Web_programming\n",
      "0  90.0           70.0  50.0             55.0\n",
      "1  10.0           20.0  41.0             66.0\n",
      "2  34.0           25.0  67.0             23.0\n",
      "3  23.0           32.0  34.0             76.0\n",
      "4  43.0           73.0  23.0             67.0\n",
      "5  59.0           37.0  84.0             82.0\n",
      "6   0.0            0.0   0.0              0.0\n",
      "7   0.0            0.0   0.0              0.0\n",
      "\n",
      "   Math  C_programming  Java  Web_programming\n",
      "0  90.0           70.0  50.0             55.0\n",
      "1  10.0           20.0  41.0             66.0\n",
      "2  34.0           25.0  67.0             23.0\n",
      "3  23.0           32.0  34.0             76.0\n",
      "4  43.0           73.0  23.0             67.0\n",
      "5  59.0           37.0  84.0             82.0\n",
      "6  59.0           37.0  84.0             82.0\n",
      "7  59.0           37.0  84.0             82.0\n"
     ]
    }
   ],
   "source": [
    "s1 = studentDF\n",
    "s2 = studentDF\n",
    "\n",
    "s1 = s1.fillna(0)    # fill missing values with 0\n",
    "s2 = s2.fillna(method='pad')  # fill missing values with the last value\n",
    "\n",
    "print(s1)\n",
    "print()\n",
    "print(s2)"
   ]
  },
  {
   "cell_type": "markdown",
   "metadata": {},
   "source": [
    "#### Joining/Grouping\n",
    "\n",
    "Pandas provides join operations very similar to relational databases like SQL.\n",
    "it is a single function, `merge`, as the entry point for all standard database join\n",
    "operations between DataFrame objects. \n",
    "\n",
    "The operation `join` combines columns\n",
    "from one or more tables based on their corresponding columns, e.g., ID."
   ]
  },
  {
   "cell_type": "code",
   "execution_count": 40,
   "metadata": {},
   "outputs": [
    {
     "name": "stdout",
     "output_type": "stream",
     "text": [
      "   id    Name subject_id\n",
      "0   1    Alex       sub1\n",
      "1   2     Amy       sub2\n",
      "2   3   Allen       sub3\n",
      "3   4   Alice       sub4\n",
      "4   5  Ayoung       sub5\n",
      "\n",
      "   id    subject_name\n",
      "0   1            Math\n",
      "1   2         English\n",
      "2   3  Social Science\n",
      "3   4     Programming\n",
      "4   5         Physics\n"
     ]
    }
   ],
   "source": [
    "left = pd.DataFrame({\n",
    "    'id' : [1,2,3,4,5],\n",
    "    'Name' : ['Alex', 'Amy', 'Allen', 'Alice', 'Ayoung'],\n",
    "    'subject_id' : ['sub1','sub2','sub3','sub4','sub5']\n",
    "})\n",
    "\n",
    "right = pd.DataFrame({\n",
    "    'id' : [1,2,3,4,5],\n",
    "    'subject_name' : ['Math','English', 'Social Science', 'Programming',\n",
    "                     'Physics']\n",
    "})\n",
    "\n",
    "print(left)\n",
    "print()\n",
    "print(right)"
   ]
  },
  {
   "cell_type": "code",
   "execution_count": 88,
   "metadata": {},
   "outputs": [],
   "source": [
    "merged_table = pd.merge(left, right, on='id')   # merge them based on 'id'"
   ]
  },
  {
   "cell_type": "code",
   "execution_count": 42,
   "metadata": {},
   "outputs": [
    {
     "name": "stdout",
     "output_type": "stream",
     "text": [
      "   id    Name subject_id    subject_name\n",
      "0   1    Alex       sub1            Math\n",
      "1   2     Amy       sub2         English\n",
      "2   3   Allen       sub3  Social Science\n",
      "3   4   Alice       sub4     Programming\n",
      "4   5  Ayoung       sub5         Physics\n"
     ]
    }
   ],
   "source": [
    "print(merged_table)"
   ]
  },
  {
   "cell_type": "markdown",
   "metadata": {},
   "source": [
    "<img src=\"table3.png\">\n",
    "create the 2 tables and merge them"
   ]
  },
  {
   "cell_type": "code",
   "execution_count": 43,
   "metadata": {},
   "outputs": [
    {
     "name": "stdout",
     "output_type": "stream",
     "text": [
      "   id    name  math  english section\n",
      "0   0     Mat    34       23     one\n",
      "1   1    Mike    12       13     one\n",
      "2   2    John    34       51     one\n",
      "3   3  Peecha    12       62     two\n",
      "4   4   Prabu    65       12     two\n",
      "5   5  Bunchu    23       42     two\n"
     ]
    }
   ],
   "source": [
    "first = pd.DataFrame({\n",
    "    'id' : [0,1,2,3,4,5],\n",
    "    'section' : ['one','one','one','two','two','two']\n",
    "})\n",
    "\n",
    "second = pd.DataFrame({\n",
    "    'id' : [0,1,2,3,4,5],\n",
    "    'name' : ['Mat','Mike','John','Peecha','Prabu','Bunchu'],\n",
    "    'math' : [34,12,34,12,65,23],\n",
    "    'english' : [23,13,51,62,12,42]\n",
    "})\n",
    "\n",
    "score = pd.merge(second, first, on='id')   # merge based on 'id'\n",
    "print(score)"
   ]
  },
  {
   "cell_type": "code",
   "execution_count": 44,
   "metadata": {},
   "outputs": [
    {
     "data": {
      "text/html": [
       "<div>\n",
       "<style scoped>\n",
       "    .dataframe tbody tr th:only-of-type {\n",
       "        vertical-align: middle;\n",
       "    }\n",
       "\n",
       "    .dataframe tbody tr th {\n",
       "        vertical-align: top;\n",
       "    }\n",
       "\n",
       "    .dataframe thead th {\n",
       "        text-align: right;\n",
       "    }\n",
       "</style>\n",
       "<table border=\"1\" class=\"dataframe\">\n",
       "  <thead>\n",
       "    <tr style=\"text-align: right;\">\n",
       "      <th></th>\n",
       "      <th>id</th>\n",
       "      <th>math</th>\n",
       "      <th>english</th>\n",
       "    </tr>\n",
       "    <tr>\n",
       "      <th>section</th>\n",
       "      <th></th>\n",
       "      <th></th>\n",
       "      <th></th>\n",
       "    </tr>\n",
       "  </thead>\n",
       "  <tbody>\n",
       "    <tr>\n",
       "      <th>one</th>\n",
       "      <td>3</td>\n",
       "      <td>80</td>\n",
       "      <td>87</td>\n",
       "    </tr>\n",
       "    <tr>\n",
       "      <th>two</th>\n",
       "      <td>12</td>\n",
       "      <td>100</td>\n",
       "      <td>116</td>\n",
       "    </tr>\n",
       "  </tbody>\n",
       "</table>\n",
       "</div>"
      ],
      "text/plain": [
       "         id  math  english\n",
       "section                   \n",
       "one       3    80       87\n",
       "two      12   100      116"
      ]
     },
     "execution_count": 44,
     "metadata": {},
     "output_type": "execute_result"
    }
   ],
   "source": [
    "score_sec = score.groupby('section')  # group them together based on section\n",
    "score_sec.sum()"
   ]
  },
  {
   "cell_type": "code",
   "execution_count": 45,
   "metadata": {},
   "outputs": [
    {
     "data": {
      "text/html": [
       "<div>\n",
       "<style scoped>\n",
       "    .dataframe tbody tr th:only-of-type {\n",
       "        vertical-align: middle;\n",
       "    }\n",
       "\n",
       "    .dataframe tbody tr th {\n",
       "        vertical-align: top;\n",
       "    }\n",
       "\n",
       "    .dataframe thead tr th {\n",
       "        text-align: left;\n",
       "    }\n",
       "\n",
       "    .dataframe thead tr:last-of-type th {\n",
       "        text-align: right;\n",
       "    }\n",
       "</style>\n",
       "<table border=\"1\" class=\"dataframe\">\n",
       "  <thead>\n",
       "    <tr>\n",
       "      <th></th>\n",
       "      <th colspan=\"8\" halign=\"left\">english</th>\n",
       "      <th colspan=\"5\" halign=\"left\">id</th>\n",
       "      <th colspan=\"8\" halign=\"left\">math</th>\n",
       "    </tr>\n",
       "    <tr>\n",
       "      <th></th>\n",
       "      <th>count</th>\n",
       "      <th>mean</th>\n",
       "      <th>std</th>\n",
       "      <th>min</th>\n",
       "      <th>25%</th>\n",
       "      <th>50%</th>\n",
       "      <th>75%</th>\n",
       "      <th>max</th>\n",
       "      <th>count</th>\n",
       "      <th>mean</th>\n",
       "      <th>...</th>\n",
       "      <th>75%</th>\n",
       "      <th>max</th>\n",
       "      <th>count</th>\n",
       "      <th>mean</th>\n",
       "      <th>std</th>\n",
       "      <th>min</th>\n",
       "      <th>25%</th>\n",
       "      <th>50%</th>\n",
       "      <th>75%</th>\n",
       "      <th>max</th>\n",
       "    </tr>\n",
       "    <tr>\n",
       "      <th>section</th>\n",
       "      <th></th>\n",
       "      <th></th>\n",
       "      <th></th>\n",
       "      <th></th>\n",
       "      <th></th>\n",
       "      <th></th>\n",
       "      <th></th>\n",
       "      <th></th>\n",
       "      <th></th>\n",
       "      <th></th>\n",
       "      <th></th>\n",
       "      <th></th>\n",
       "      <th></th>\n",
       "      <th></th>\n",
       "      <th></th>\n",
       "      <th></th>\n",
       "      <th></th>\n",
       "      <th></th>\n",
       "      <th></th>\n",
       "      <th></th>\n",
       "      <th></th>\n",
       "    </tr>\n",
       "  </thead>\n",
       "  <tbody>\n",
       "    <tr>\n",
       "      <th>one</th>\n",
       "      <td>3.0</td>\n",
       "      <td>29.000000</td>\n",
       "      <td>19.697716</td>\n",
       "      <td>13.0</td>\n",
       "      <td>18.0</td>\n",
       "      <td>23.0</td>\n",
       "      <td>37.0</td>\n",
       "      <td>51.0</td>\n",
       "      <td>3.0</td>\n",
       "      <td>1.0</td>\n",
       "      <td>...</td>\n",
       "      <td>1.5</td>\n",
       "      <td>2.0</td>\n",
       "      <td>3.0</td>\n",
       "      <td>26.666667</td>\n",
       "      <td>12.701706</td>\n",
       "      <td>12.0</td>\n",
       "      <td>23.0</td>\n",
       "      <td>34.0</td>\n",
       "      <td>34.0</td>\n",
       "      <td>34.0</td>\n",
       "    </tr>\n",
       "    <tr>\n",
       "      <th>two</th>\n",
       "      <td>3.0</td>\n",
       "      <td>38.666667</td>\n",
       "      <td>25.166115</td>\n",
       "      <td>12.0</td>\n",
       "      <td>27.0</td>\n",
       "      <td>42.0</td>\n",
       "      <td>52.0</td>\n",
       "      <td>62.0</td>\n",
       "      <td>3.0</td>\n",
       "      <td>4.0</td>\n",
       "      <td>...</td>\n",
       "      <td>4.5</td>\n",
       "      <td>5.0</td>\n",
       "      <td>3.0</td>\n",
       "      <td>33.333333</td>\n",
       "      <td>27.970222</td>\n",
       "      <td>12.0</td>\n",
       "      <td>17.5</td>\n",
       "      <td>23.0</td>\n",
       "      <td>44.0</td>\n",
       "      <td>65.0</td>\n",
       "    </tr>\n",
       "  </tbody>\n",
       "</table>\n",
       "<p>2 rows × 24 columns</p>\n",
       "</div>"
      ],
      "text/plain": [
       "        english                                                        id  \\\n",
       "          count       mean        std   min   25%   50%   75%   max count   \n",
       "section                                                                     \n",
       "one         3.0  29.000000  19.697716  13.0  18.0  23.0  37.0  51.0   3.0   \n",
       "two         3.0  38.666667  25.166115  12.0  27.0  42.0  52.0  62.0   3.0   \n",
       "\n",
       "              ...             math                                          \\\n",
       "        mean  ...   75%  max count       mean        std   min   25%   50%   \n",
       "section       ...                                                            \n",
       "one      1.0  ...   1.5  2.0   3.0  26.666667  12.701706  12.0  23.0  34.0   \n",
       "two      4.0  ...   4.5  5.0   3.0  33.333333  27.970222  12.0  17.5  23.0   \n",
       "\n",
       "                     \n",
       "          75%   max  \n",
       "section              \n",
       "one      34.0  34.0  \n",
       "two      44.0  65.0  \n",
       "\n",
       "[2 rows x 24 columns]"
      ]
     },
     "execution_count": 45,
     "metadata": {},
     "output_type": "execute_result"
    }
   ],
   "source": [
    "score_sec.describe()"
   ]
  }
 ],
 "metadata": {
  "kernelspec": {
   "display_name": "Python 3",
   "language": "python",
   "name": "python3"
  },
  "language_info": {
   "codemirror_mode": {
    "name": "ipython",
    "version": 3
   },
   "file_extension": ".py",
   "mimetype": "text/x-python",
   "name": "python",
   "nbconvert_exporter": "python",
   "pygments_lexer": "ipython3",
   "version": "3.6.5"
  }
 },
 "nbformat": 4,
 "nbformat_minor": 2
}
