{
 "cells": [
  {
   "cell_type": "markdown",
   "metadata": {},
   "source": [
    "## basic programming syntax of python\n",
    "including conditions, loop and array. You will also learn about how to use\n",
    "existing module of Python which is called library (in this lession math will be\n",
    "used)\n",
    "\n",
    "### Expression\n",
    "Expression is a combination of values, variables and operators. Expression need\n",
    "to be compared and evaluated. There are many type of expression in Python\n",
    "such as **arithmetic expression**, **comparison expression** and **logical expression**.\n",
    "\n",
    "#### Arithmetic Operators\n",
    "- +(unary) Unary Positive.\n",
    "- +(binary) Addition.\n",
    "- -(unary) Unary Negation.\n",
    "- (-binary) Subtraction.\n",
    "- * Multiplication.\n",
    "- / Division.\n",
    "- % Modulus.\n",
    "- // Floor Division.\n",
    "- ** Exponentiation."
   ]
  },
  {
   "cell_type": "code",
   "execution_count": 1,
   "metadata": {},
   "outputs": [
    {
     "name": "stdout",
     "output_type": "stream",
     "text": [
      "-2\n",
      "2.5\n",
      "2\n",
      "-3\n",
      "10\n",
      "25\n"
     ]
    }
   ],
   "source": [
    "x=2\n",
    "y=5\n",
    "print(-x)\n",
    "print(y/x)\n",
    "print(y//x)\n",
    "print(-y//x)\n",
    "print(y*x)\n",
    "print(y**x)"
   ]
  },
  {
   "cell_type": "markdown",
   "metadata": {},
   "source": [
    "#### Comparison Operators\n",
    "Comparison is a comparing the values on either sides of the operators and\n",
    "decide the relation among them.\n",
    "- == Equal.\n",
    "- != Not Equal.\n",
    "- <> Not Equal (similar to !=).\n",
    "- \\> Greater than.\n",
    "- < Less than.\n",
    "- \\>= Greater than or equal.\n",
    "- <= Less than or equal."
   ]
  },
  {
   "cell_type": "code",
   "execution_count": 3,
   "metadata": {},
   "outputs": [
    {
     "name": "stdout",
     "output_type": "stream",
     "text": [
      "False\n",
      "False\n",
      "True\n",
      "False\n",
      "False\n",
      "True\n",
      "False\n"
     ]
    }
   ],
   "source": [
    "print(-2 > 5)\n",
    "print(2.35 >= 23.5)\n",
    "print(7.45 != 5.0)\n",
    "print(\"ict\" < \"computer science\")\n",
    "print(\"chair\" == \"Chair\")\n",
    "print(\"net\" < \"network\")\n",
    "print(\"Same\" != \"Same\")"
   ]
  },
  {
   "cell_type": "code",
   "execution_count": 11,
   "metadata": {},
   "outputs": [
    {
     "data": {
      "text/plain": [
       "True"
      ]
     },
     "execution_count": 11,
     "metadata": {},
     "output_type": "execute_result"
    }
   ],
   "source": [
    "var = 4.0\n",
    "var == 4"
   ]
  },
  {
   "cell_type": "code",
   "execution_count": 7,
   "metadata": {},
   "outputs": [
    {
     "name": "stdout",
     "output_type": "stream",
     "text": [
      "2 1\n",
      "1 2\n"
     ]
    }
   ],
   "source": [
    "var1=2; var2=1;\n",
    "print(var1, var2)\n",
    "\n",
    "# swap variables' value\n",
    "var1, var2 = var2, var1\n",
    "print(var1, var2)"
   ]
  },
  {
   "cell_type": "markdown",
   "metadata": {},
   "source": [
    "#### Logical Operators\n",
    "Logical operators is a operator used to connect boolean statements. \n",
    "- **and (Logical AND)** If both the operands are true, the condition be\n",
    "come true\n",
    "- **or (Logical OR)** If any of the two operand are non-zero then\n",
    "condition become true.\n",
    "- **not (Logical NOT)** Use to reverse the logical state of its operand."
   ]
  },
  {
   "cell_type": "code",
   "execution_count": 13,
   "metadata": {},
   "outputs": [
    {
     "name": "stdout",
     "output_type": "stream",
     "text": [
      "True\n",
      "False\n",
      "True\n"
     ]
    }
   ],
   "source": [
    "print(\"a\" < \"c\" and 2< 4)\n",
    "print(not 2 < 4)\n",
    "print(\"a\" < \"c\" or 4< 2)"
   ]
  },
  {
   "cell_type": "markdown",
   "metadata": {},
   "source": [
    "### Condition\n",
    "when your program need to make a choice. Condition statement are constructed using **if**, **elif**,\n",
    "and **else** keywords.\n",
    "\n",
    "Python does not use curly braces {} as other languages. Hence, you need to be more careful about indentation (tab or space)."
   ]
  },
  {
   "cell_type": "code",
   "execution_count": 9,
   "metadata": {},
   "outputs": [
    {
     "name": "stdout",
     "output_type": "stream",
     "text": [
      "Please enter the signal (red, yellow, green): go\n",
      "Becareful..\n"
     ]
    }
   ],
   "source": [
    "signal = input(\"Please enter the signal (red, yellow, green): \")\n",
    "if signal == \"red\" :\n",
    "    print(\"STOP!!\")\n",
    "elif signal == \"green\" :\n",
    "    print(\"GO!!!\")\n",
    "else:\n",
    "    print(\"Becareful..\")"
   ]
  },
  {
   "cell_type": "markdown",
   "metadata": {},
   "source": [
    "### Looping\n",
    "Looping is used to repeat the same process over a of different value. There are\n",
    "two main methods for creating a loop in Python: the **while** and **for** statements."
   ]
  },
  {
   "cell_type": "code",
   "execution_count": 16,
   "metadata": {},
   "outputs": [
    {
     "name": "stdout",
     "output_type": "stream",
     "text": [
      "Enter number of loop: 2\n",
      "2\n",
      "1\n"
     ]
    }
   ],
   "source": [
    "number = int(input(\"Enter number of loop: \"))\n",
    "while number > 0:\n",
    "    print(number)\n",
    "    number=number-1"
   ]
  },
  {
   "cell_type": "code",
   "execution_count": 17,
   "metadata": {},
   "outputs": [
    {
     "name": "stdout",
     "output_type": "stream",
     "text": [
      "Number: 5\n",
      "Number: 6\n",
      "5.0\n",
      "Number: 7\n",
      "5.5\n",
      "Number: 1\n",
      "6.0\n",
      "Number: -0\n",
      "4.75\n",
      "Number: -1\n",
      "3.8\n"
     ]
    }
   ],
   "source": [
    "counter=0\n",
    "total=0\n",
    "number=0\n",
    "number = int(input(\"Number: \"))\n",
    "while number>=0:\n",
    "    total += number\n",
    "    counter += 1\n",
    "    number = int(input(\"Number: \"))\n",
    "    avg = total/counter\n",
    "    print(avg)"
   ]
  },
  {
   "cell_type": "code",
   "execution_count": 11,
   "metadata": {},
   "outputs": [
    {
     "name": "stdout",
     "output_type": "stream",
     "text": [
      "0\n",
      "1\n",
      "2\n",
      "\n",
      "2\n",
      "3\n",
      "4\n",
      "5\n",
      "\n",
      "3\n",
      "7\n"
     ]
    }
   ],
   "source": [
    "for x in range(3):\n",
    "    print(x)\n",
    "print()\n",
    "for x in range(2, 6):\n",
    "    print(x)\n",
    "print()\n",
    "for x in range(3, 8, 4):\n",
    "    print(x)"
   ]
  },
  {
   "cell_type": "code",
   "execution_count": 12,
   "metadata": {},
   "outputs": [
    {
     "name": "stdout",
     "output_type": "stream",
     "text": [
      "1\n",
      "2\n",
      "3\n",
      "\n",
      "1\n",
      "2\n",
      "3\n"
     ]
    }
   ],
   "source": [
    "a = (1,2,3)\n",
    "b = [1,2,3]\n",
    "for x in a:\n",
    "    print(x)\n",
    "print()\n",
    "for x in b:\n",
    "        print(x)"
   ]
  },
  {
   "cell_type": "code",
   "execution_count": 16,
   "metadata": {},
   "outputs": [
    {
     "name": "stdout",
     "output_type": "stream",
     "text": [
      "1\n",
      "this is b  1\n",
      "this is b  2\n",
      "this is b  3\n",
      "\n",
      "2\n",
      "this is b  1\n",
      "this is b  2\n",
      "this is b  3\n",
      "\n",
      "3\n",
      "this is b  1\n",
      "this is b  2\n",
      "this is b  3\n",
      "\n"
     ]
    }
   ],
   "source": [
    "a = (1,2,3)\n",
    "b = [1,2,3]\n",
    "string = \"this is b \"\n",
    "for x in a:\n",
    "    print(x)\n",
    "    for x in b:\n",
    "        print(string, x)\n",
    "    print()"
   ]
  },
  {
   "cell_type": "code",
   "execution_count": 18,
   "metadata": {},
   "outputs": [
    {
     "ename": "SyntaxError",
     "evalue": "can't assign to function call (<ipython-input-18-79263391e20d>, line 1)",
     "traceback": [
      "\u001b[1;36m  File \u001b[1;32m\"<ipython-input-18-79263391e20d>\"\u001b[1;36m, line \u001b[1;32m1\u001b[0m\n\u001b[1;33m    a(0) =  2\u001b[0m\n\u001b[1;37m             ^\u001b[0m\n\u001b[1;31mSyntaxError\u001b[0m\u001b[1;31m:\u001b[0m can't assign to function call\n"
     ],
     "output_type": "error"
    }
   ],
   "source": [
    "# if you use (), you cannot change the value\n",
    "a(0) =  2\n",
    "for x in a:\n",
    "    print(x)"
   ]
  },
  {
   "cell_type": "code",
   "execution_count": 19,
   "metadata": {},
   "outputs": [
    {
     "name": "stdout",
     "output_type": "stream",
     "text": [
      "2\n",
      "2\n",
      "3\n"
     ]
    }
   ],
   "source": [
    "# if you use [], then you can\n",
    "b[0] = 2  \n",
    "for x in b:\n",
    "    print(x)"
   ]
  },
  {
   "cell_type": "markdown",
   "metadata": {},
   "source": [
    "### The math Module\n",
    "Python provides loads of mathematic operations and functions to support scientific\n",
    "problem solving in the math library module.\n",
    "- **pow(x,y)** x to the power y, x<sup>y</sup>\n",
    "- **sqrt(x)** Square root of x, √x\n",
    "- **floor(x)** Floor of x, return the largest integer less than or equal to x.\n",
    "- **ceil(x)** Ceil of x, the largest integer more than or equal to x.\n",
    "- **log(x)** Natural logarithm of x, ln x.\n",
    "- **exp(x)** The exponential of x, e<sup>x</sup>.\n",
    "- **pi(x)** The mathematical constant of π\n",
    "- **abs(x)** Absolute value of x, return positive value of x.\n",
    "\n",
    "Note that: the use of mathematic function in python console need to include\n",
    "`math.[function]` For example, `math.floor(2.3)`."
   ]
  },
  {
   "cell_type": "markdown",
   "metadata": {},
   "source": [
    "compute m = <sup>(y<sub>2</sub> − y<sub>1</sub>)</sup> &frasl; <sub>(x<sub>2</sub> − x<sub>1</sub>)</sub>  \n",
    "where, x=2 and y=5."
   ]
  },
  {
   "cell_type": "code",
   "execution_count": 22,
   "metadata": {},
   "outputs": [
    {
     "name": "stdout",
     "output_type": "stream",
     "text": [
      "10.0\n"
     ]
    }
   ],
   "source": [
    "import math\n",
    "x=2\n",
    "y=5\n",
    "m=(math.pow(y,2)-y)/(math.pow(x,2)-x)\n",
    "print(m)"
   ]
  },
  {
   "cell_type": "code",
   "execution_count": 23,
   "metadata": {},
   "outputs": [
    {
     "name": "stdout",
     "output_type": "stream",
     "text": [
      "59.914645471079815\n"
     ]
    }
   ],
   "source": [
    "n=20\n",
    "print(n*math.log(n))"
   ]
  },
  {
   "cell_type": "markdown",
   "metadata": {},
   "source": [
    "A truck starts from rest and accelerates uniformly over a time\n",
    "(t) of 4.13 seconds for a distance (d) of 130 m. Determine the acceleration (a)\n",
    "of the car."
   ]
  },
  {
   "cell_type": "code",
   "execution_count": 24,
   "metadata": {},
   "outputs": [
    {
     "name": "stdout",
     "output_type": "stream",
     "text": [
      "7.621549050530871\n"
     ]
    }
   ],
   "source": [
    "t=4.13\n",
    "d=130\n",
    "a=d/math.pow(t,2)\n",
    "print(a)"
   ]
  },
  {
   "cell_type": "markdown",
   "metadata": {},
   "source": [
    "Write a line of code to show the results of sin30◦, cos60◦, and\n",
    "tan90◦\n",
    "respectively"
   ]
  },
  {
   "cell_type": "code",
   "execution_count": 25,
   "metadata": {},
   "outputs": [
    {
     "name": "stdout",
     "output_type": "stream",
     "text": [
      "0.49999999999999994\n",
      "0.5000000000000001\n",
      "1.633123935319537e+16\n"
     ]
    }
   ],
   "source": [
    "print(math.sin(math.radians(30)))\n",
    "print(math.cos(math.radians(60)))\n",
    "print(math.tan(math.radians(90)))"
   ]
  },
  {
   "cell_type": "markdown",
   "metadata": {},
   "source": [
    "2<sup>3</sup>"
   ]
  },
  {
   "cell_type": "code",
   "execution_count": 26,
   "metadata": {},
   "outputs": [
    {
     "name": "stdout",
     "output_type": "stream",
     "text": [
      "8\n"
     ]
    }
   ],
   "source": [
    "print(pow(2,3))"
   ]
  },
  {
   "cell_type": "markdown",
   "metadata": {},
   "source": [
    "#### Trigonometric calculation\n",
    "\n",
    "- **sin(x)** Return the sine of x radians.\n",
    "- **cos(x)** Return the cosine of x radians.\n",
    "- **tan(x)** Return the tangent of x radians.\n",
    "- **asin(x)** Return the arc sine of x radians.\n",
    "- **acos(x)** Return the arc cosine of x radians.\n",
    "- **atan(x)** Return the arc tangent of x radians.\n",
    "- **degrees(x)** Converts angle x from radians to degrees.\n",
    "- **radians(x)** Converts angle x from degrees to radians."
   ]
  },
  {
   "cell_type": "markdown",
   "metadata": {},
   "source": [
    "problem:\n",
    "\n",
    "Peter kicks the ball on the ground with the project tile motion.\n",
    "The ball does an angle of 53◦\n",
    "to horizontal. The initial velocity (V<sub>i</sub>) is 10 m/s.\n",
    "Using python programming to find the maximum height (H<sub>max</sub>) it can reach,\n",
    "horizontal displacement(X) and total time required for this motion (T<sub>total</sub>).  \n",
    "(sin53◦=0, 8 and cos53◦=0, 6)"
   ]
  },
  {
   "cell_type": "code",
   "execution_count": 40,
   "metadata": {},
   "outputs": [
    {
     "name": "stdout",
     "output_type": "stream",
     "text": [
      "h = 3.2541769281045894 and x = 0.4904396407848566 while time = 1.6298683878516178\n"
     ]
    }
   ],
   "source": [
    "u = 10\n",
    "ux = math.cos(math.radians(53))\n",
    "uy = 10*math.sin(math.radians(53))\n",
    "\n",
    "h = (0 - math.pow(uy, 2))/(-9.8*2)\n",
    "t = 2*((0 - uy)/-9.8)\n",
    "x = 0.5*ux*t\n",
    "print(f\"h = {h} and x = {x} while time = {t}\")"
   ]
  }
 ],
 "metadata": {
  "kernelspec": {
   "display_name": "Python 3",
   "language": "python",
   "name": "python3"
  },
  "language_info": {
   "codemirror_mode": {
    "name": "ipython",
    "version": 3
   },
   "file_extension": ".py",
   "mimetype": "text/x-python",
   "name": "python",
   "nbconvert_exporter": "python",
   "pygments_lexer": "ipython3",
   "version": "3.6.5"
  }
 },
 "nbformat": 4,
 "nbformat_minor": 2
}
