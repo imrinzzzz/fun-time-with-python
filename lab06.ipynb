{
 "cells": [
  {
   "cell_type": "markdown",
   "metadata": {},
   "source": [
    "## SciPy\n",
    "SciPy is a basic python library for solving scientific problem. It is a collection of mathematical algorithms and\n",
    "convenience functions built on the Numpy extension of Python.\n",
    "\n",
    "SciPy subpackage is organized to cover different scientific computing domains. We are using only `scipy.cluster`, `scipy.constants` and `scipy.cluster subpackages`.\n",
    "\n",
    "#### K-Mean clusters\n",
    "k-mean is an algorithm for grouping similar data into **k group** as an user input.\n",
    "This algorithm will _return_ **a set of centroids**, one for each of the clusters. Data\n",
    "will be transformed in to observation vector and will be classified into the closest\n",
    "centroid.\n",
    "\n",
    "- **whiten(obs[, check finite])**  \n",
    "    Normalize a group of observations on a per feature basis.\n",
    "- **vq(obs, code book[,check finite])**  \n",
    "    Assign codes from a code book to observations.\n",
    "- **kmeans(obs, k o guess[, iter, thresh, ...])**  \n",
    "    Performs k-means on a set of observation vectors forming k clusters.\n",
    "- **(kmeans2(data, k[, iter, thresh, minit, ...]))**  \n",
    "    Classify a set of observations into k clusters using the k-means algorithm."
   ]
  },
  {
   "cell_type": "code",
   "execution_count": 29,
   "metadata": {},
   "outputs": [
    {
     "name": "stdout",
     "output_type": "stream",
     "text": [
      "[[80], [78], [55], [60], [62], [59], [48], [49], [51], [54], [72], [95], [78], [54], [50], [61], [57], [56], [65], [53]]\n"
     ]
    }
   ],
   "source": [
    "import scipy\n",
    "from scipy.cluster.vq import kmeans, vq, whiten\n",
    "    #Score of 20 students in on subjects\n",
    "student_scores = [[80],[78],[55], [60], [62],\n",
    "                  [59],[48], [49], [51], [54],\n",
    "                  [72], [95], [78], [54], [50],\n",
    "                  [61], [57], [56], [65], [53]];\n",
    "print(student_scores)"
   ]
  },
  {
   "cell_type": "code",
   "execution_count": 30,
   "metadata": {},
   "outputs": [],
   "source": [
    "# normalize the raw data and calculate the centroids for classifying 2 group of students\n",
    "student_scores = whiten(student_scores)\n",
    "centroids,_ = kmeans(student_scores, 2)"
   ]
  },
  {
   "cell_type": "code",
   "execution_count": 31,
   "metadata": {},
   "outputs": [
    {
     "name": "stdout",
     "output_type": "stream",
     "text": [
      "[6.53573177] [6.37233848] [4.49331559] [4.90179883] [5.06519213] [4.82010218] [3.92143906] [4.00313571] [4.16652901] [4.41161895] [5.8821586] [7.76118148] [6.37233848] [4.41161895] [4.08483236] [4.98349548] [4.65670889] [4.57501224] [5.31028207] [4.3299223]\n",
      "\n",
      "[4.54233358] [6.58474976]\n"
     ]
    }
   ],
   "source": [
    "print(*student_scores, sep=\" \")\n",
    "print()\n",
    "print(*centroids, sep=\" \")"
   ]
  },
  {
   "cell_type": "code",
   "execution_count": 32,
   "metadata": {},
   "outputs": [
    {
     "name": "stdout",
     "output_type": "stream",
     "text": [
      "[1 1 0 0 0 0 0 0 0 0 1 1 1 0 0 0 0 0 0 0]\n"
     ]
    }
   ],
   "source": [
    "# assign student into each group based on the nearest distance\n",
    "result,_ = vq(student_scores, centroids)\n",
    "print(result)"
   ]
  },
  {
   "cell_type": "code",
   "execution_count": 33,
   "metadata": {},
   "outputs": [
    {
     "name": "stdout",
     "output_type": "stream",
     "text": [
      "[[4.22780149]\n",
      " [7.76118148]\n",
      " [6.29064183]\n",
      " [4.90179883]]\n",
      "[2 2 0 3 3 3 0 0 0 0 2 1 2 0 0 3 3 3 3 0]\n"
     ]
    }
   ],
   "source": [
    "# Modify the code in Exercise 1,2 and 3, in order to classify students in to 4 groups\n",
    "centroids,_ = kmeans(student_scores, 4)\n",
    "result,_ = vq(student_scores, centroids)\n",
    "print(centroids)\n",
    "print(result)"
   ]
  },
  {
   "cell_type": "code",
   "execution_count": 34,
   "metadata": {},
   "outputs": [],
   "source": [
    "# classify the following scores of two subjects from 20 students into FOUR groups.\n",
    "student_scores2 = [[80, 72], [78, 56], [55, 64], [60, 61], [62, 45],\n",
    "                   [59, 71], [48, 85], [49, 45], [51, 55], [54, 62],\n",
    "                   [72, 81], [95, 81], [78, 92], [54, 80], [50, 50],\n",
    "                   [61, 65], [57, 62], [56, 55], [65, 63], [53, 72]];"
   ]
  },
  {
   "cell_type": "code",
   "execution_count": 40,
   "metadata": {},
   "outputs": [
    {
     "name": "stdout",
     "output_type": "stream",
     "text": [
      "[[6.58474976 5.92039083]\n",
      " [4.37894029 3.87460133]\n",
      " [4.22099344 6.1218701 ]\n",
      " [4.79676028 4.9594897 ]] \n",
      "\n",
      " [0 0 3 3 1 3 2 1 1 3 0 0 0 2 1 3 3 1 3 2]\n"
     ]
    }
   ],
   "source": [
    "student_scores2 = whiten(student_scores2)\n",
    "centroids2,_ = kmeans(student_scores2, 4)\n",
    "result2,_ = vq(student_scores2, centroids2)\n",
    "print(centroids2, '\\n\\n', result2)"
   ]
  },
  {
   "cell_type": "markdown",
   "metadata": {},
   "source": [
    "#### Scipy constants\n",
    "The scipy package contains a lot of useful constants and units of both Physic and Mathematic which will allow you to easily compute scientific problems"
   ]
  },
  {
   "cell_type": "code",
   "execution_count": 46,
   "metadata": {},
   "outputs": [
    {
     "name": "stdout",
     "output_type": "stream",
     "text": [
      "The PI is 3.1415926535897931\n",
      "The speed of light is c = 299792458.0\n",
      "The newton's gravity constant is G = 9.8\n"
     ]
    }
   ],
   "source": [
    "import scipy.constants\n",
    "\n",
    "print(\"The PI is %.16f\" %scipy.constants.pi)\n",
    "print(\"The speed of light is c = %.1F\" %scipy.constants.c)\n",
    "print(\"The newton's gravity constant is G = %.1F\" %scipy.constants.g)"
   ]
  },
  {
   "cell_type": "code",
   "execution_count": 53,
   "metadata": {},
   "outputs": [
    {
     "data": {
      "text/plain": [
       "['atomic mass unit-kilogram relationship',\n",
       " 'electron volt-kilogram relationship',\n",
       " 'hartree-kilogram relationship',\n",
       " 'hertz-kilogram relationship',\n",
       " 'inverse meter-kilogram relationship',\n",
       " 'joule-kilogram relationship',\n",
       " 'kelvin-kilogram relationship',\n",
       " 'kilogram-atomic mass unit relationship',\n",
       " 'kilogram-electron volt relationship',\n",
       " 'kilogram-hartree relationship',\n",
       " 'kilogram-hertz relationship',\n",
       " 'kilogram-inverse meter relationship',\n",
       " 'kilogram-joule relationship',\n",
       " 'kilogram-kelvin relationship']"
      ]
     },
     "execution_count": 53,
     "metadata": {},
     "output_type": "execute_result"
    }
   ],
   "source": [
    "scipy.constants.find(\"gram\")  # find every constant with the word \"gram\" in it"
   ]
  },
  {
   "cell_type": "code",
   "execution_count": 55,
   "metadata": {},
   "outputs": [
    {
     "name": "stdout",
     "output_type": "stream",
     "text": [
      "(1.66053904e-27, 'kg', 2e-35)\n"
     ]
    }
   ],
   "source": [
    "print(scipy.constants.physical_constants[\"atomic mass unit-kilogram relationship\"])"
   ]
  },
  {
   "cell_type": "code",
   "execution_count": 45,
   "metadata": {},
   "outputs": [
    {
     "name": "stdout",
     "output_type": "stream",
     "text": [
      "4.943153483052497e+18\n"
     ]
    }
   ],
   "source": [
    "import numpy as np\n",
    "E = 55*np.power(scipy.constants.c, 2)  # E = mc^2\n",
    "print(E)"
   ]
  },
  {
   "cell_type": "markdown",
   "metadata": {},
   "source": [
    "#### Scipy stats\n",
    "This package contains a large number of statistical functions.\n",
    "\n",
    "**Basic Statistics**\n",
    "- **describe()** Computes several descriptive statistics of the passed array\n",
    "- **gmean()** Computes geometric mean along the specified axis.\n",
    "- **hmean()** Calculates the harmonic mean along the specified axis.\n",
    "- **kurtosis()** Computes the kurtosis.\n",
    "- **mode()** Returns the modal value.\n",
    "- **skew()** Tests the skewness of the data.\n",
    "- **f_oneway()** Performs a 1-way ANOVA.\n",
    "- **iqr()** Computes the interquartile range of the data along the specified axis.\n",
    "- **zscore()** Calculates the z score of each value in the sample, relative to the sample mean and standard deviation.\n",
    "- **sem()** Calculates the standard error of the mean (or standard error of measurement) of the values in the input array."
   ]
  },
  {
   "cell_type": "code",
   "execution_count": 47,
   "metadata": {},
   "outputs": [
    {
     "name": "stdout",
     "output_type": "stream",
     "text": [
      "15 21 18.0 4.0\n"
     ]
    }
   ],
   "source": [
    "import scipy.stats as stats\n",
    "x = np.array([19,18,21,16,15,17,20,18])\n",
    "# find min, max, mean, and variance\n",
    "print(stats.tmin(x), stats.tmax(x), stats.tmean(x), stats.tvar(x))"
   ]
  },
  {
   "cell_type": "code",
   "execution_count": 76,
   "metadata": {},
   "outputs": [
    {
     "name": "stdout",
     "output_type": "stream",
     "text": [
      "DescribeResult(nobs=8, minmax=(15, 21), mean=18.0, variance=4.0, skewness=0.0, kurtosis=-1.0)\n"
     ]
    }
   ],
   "source": [
    "print(stats.describe(x))"
   ]
  },
  {
   "cell_type": "markdown",
   "metadata": {},
   "source": [
    "##### Z-score\n",
    "\n",
    "To measure on how many standard deviations below or above the population\n",
    "mean of a raw score Z-score is used. It also know as a standard score and can\n",
    "be placed on a normal distribution curve. The Z-score are as follow:  \n",
    "z<sub>i</sub> = (x<sub>i</sub> − x&#772;) / S  \n",
    "Where x is a test score, x&#772; is the sample mean and S is the\n",
    "sample standard deviation."
   ]
  },
  {
   "cell_type": "code",
   "execution_count": 51,
   "metadata": {},
   "outputs": [
    {
     "name": "stdout",
     "output_type": "stream",
     "text": [
      "61.85\n",
      "12.558389940383952\n",
      "0.011944206280587316\n"
     ]
    }
   ],
   "source": [
    "student_scores = [[80], [78], [55], [60], [62],\n",
    "                  [59], [48], [49], [51], [54],\n",
    "                  [72], [95], [78], [54], [50],\n",
    "                  [61], [57], [56], [65], [53]];\n",
    "print(stats.tmean(student_scores))  # mean\n",
    "print(stats.tstd(student_scores))   # standard deviation\n",
    "print((62-stats.tmean(student_scores))/stats.tstd(student_scores))  # calculate z-score only for score=62"
   ]
  },
  {
   "cell_type": "code",
   "execution_count": 52,
   "metadata": {},
   "outputs": [
    {
     "name": "stdout",
     "output_type": "stream",
     "text": [
      "[[ 1.44524896]\n",
      " [ 1.28599288]\n",
      " [-0.54545209]\n",
      " [-0.14731188]\n",
      " [ 0.01194421]\n",
      " [-0.22693992]\n",
      " [-1.10284838]\n",
      " [-1.02322034]\n",
      " [-0.86396425]\n",
      " [-0.62508013]\n",
      " [ 0.80822462]\n",
      " [ 2.63966959]\n",
      " [ 1.28599288]\n",
      " [-0.62508013]\n",
      " [-0.9435923 ]\n",
      " [-0.06768384]\n",
      " [-0.386196  ]\n",
      " [-0.46582404]\n",
      " [ 0.25082833]\n",
      " [-0.70470817]]\n"
     ]
    }
   ],
   "source": [
    "ans = (student_scores - stats.tmean(student_scores)) / stats.tstd(student_scores)  # calculate z-score for EVERY student\n",
    "print(ans)"
   ]
  }
 ],
 "metadata": {
  "kernelspec": {
   "display_name": "Python 3",
   "language": "python",
   "name": "python3"
  },
  "language_info": {
   "codemirror_mode": {
    "name": "ipython",
    "version": 3
   },
   "file_extension": ".py",
   "mimetype": "text/x-python",
   "name": "python",
   "nbconvert_exporter": "python",
   "pygments_lexer": "ipython3",
   "version": "3.6.5"
  }
 },
 "nbformat": 4,
 "nbformat_minor": 2
}
