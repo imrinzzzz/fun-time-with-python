{
 "cells": [
  {
   "cell_type": "markdown",
   "metadata": {},
   "source": [
    "# Scikit-learn: Machine Learning in Python\n",
    "you will learn a basic python library for solving scientific\n",
    "problem named `sklearn`. sklearn is a tools for data mining and data analysis.\n",
    "It is built on NumPy, SciPy and matplotlib.\n",
    "\n",
    "## What is Machine Learning\n",
    "Machine learning (ML) is a field of computer science studying on how to create\n",
    "systems that have ability to learn from data, identify pattern and make decision\n",
    "on their own with minimal intervention from human.\n",
    "\n",
    "ML can be classified into three major types that are:\n",
    "- **Supervised learning**: learning from labeled data by training from existing\n",
    "data.\n",
    "- **Unsupervised learning**: learning from unlabeled data by clustering\n",
    "techniques.\n",
    "- **Reinforcement learning**: learning from rewards and punishments.\n",
    "\n",
    "### Basic Machine Learning with Scikit-Learn\n",
    "To perform supervised machine learning process, there are Five basic steps to\n",
    "follows:  \n",
    "1. Python Preparation\n",
    "2. Data Preparation\n",
    "3. Training Data (labeling data)\n",
    "4. Testing Model\n",
    "5. Measuring Performance\n",
    "\n",
    "___\n",
    "#### we're going to perform supervised machine learning\n",
    "understand the data we use: **Iris Dataset Information**   \n",
    "Iris dataset contains 50 samples from each of three species of Iris flower that\n",
    "are Iris setosa, Iris virginica and Iris versicolor. To classify the species FOUR\n",
    "features were measured from each sample that are (1) the length of sepals (cm), (2) the width of sepals (cm), (3) the length of petals (cm) and (4) the width of\n",
    "petals (cm)\n",
    "\n",
    "### 1. Python Preparation\n",
    "make sure everything is up-to-date."
   ]
  },
  {
   "cell_type": "code",
   "execution_count": 2,
   "metadata": {},
   "outputs": [],
   "source": [
    "import sys\n",
    "import scipy\n",
    "import numpy\n",
    "import matplotlib\n",
    "import pandas\n",
    "import sklearn"
   ]
  },
  {
   "cell_type": "code",
   "execution_count": 3,
   "metadata": {},
   "outputs": [
    {
     "name": "stdout",
     "output_type": "stream",
     "text": [
      "Python: 3.6.5 |Anaconda, Inc.| (default, Mar 29 2018, 13:32:41) [MSC v.1900 64 bit (AMD64)]\n",
      "scipy: 1.1.0\n",
      "numpy: 1.15.4\n",
      "matplotlib: 3.0.1\n",
      "pandas: 0.23.4\n",
      "sklearn: 0.19.1\n"
     ]
    }
   ],
   "source": [
    "print('Python: {}'.format(sys.version))\n",
    "print('scipy: {}'.format(scipy.__version__))\n",
    "print('numpy: {}'.format(numpy.__version__))\n",
    "print('matplotlib: {}'.format(matplotlib.__version__))\n",
    "print('pandas: {}'.format(pandas.__version__))\n",
    "print('sklearn: {}'.format(sklearn.__version__))"
   ]
  },
  {
   "cell_type": "code",
   "execution_count": 7,
   "metadata": {},
   "outputs": [],
   "source": [
    "from pandas.plotting import scatter_matrix\n",
    "import matplotlib.pyplot as plt\n",
    "from sklearn import model_selection\n",
    "from sklearn.neighbors import KNeighborsClassifier"
   ]
  },
  {
   "cell_type": "markdown",
   "metadata": {},
   "source": [
    "### 2. Data preparation\n",
    "Data preparation is a process of collecting, cleaning and consolidating data into\n",
    "format that ready to analyze. "
   ]
  },
  {
   "cell_type": "code",
   "execution_count": 8,
   "metadata": {},
   "outputs": [],
   "source": [
    "names = ['sepal-length', 'sepal-width', 'petal-length', 'petal-width', 'class',]\n",
    "ds = pandas.read_csv('iris.data', names=names)    # read csv file named 'iris.data'"
   ]
  },
  {
   "cell_type": "code",
   "execution_count": 9,
   "metadata": {},
   "outputs": [],
   "source": [
    "# display(ds)    # only use to display the graph (since this is long, I'm not showing it)"
   ]
  },
  {
   "cell_type": "code",
   "execution_count": 10,
   "metadata": {},
   "outputs": [
    {
     "name": "stdout",
     "output_type": "stream",
     "text": [
      "(150, 5)\n",
      "    sepal-length  sepal-width  petal-length  petal-width        class\n",
      "0            5.1          3.5           1.4          0.2  Iris-setosa\n",
      "1            4.9          3.0           1.4          0.2  Iris-setosa\n",
      "2            4.7          3.2           1.3          0.2  Iris-setosa\n",
      "3            4.6          3.1           1.5          0.2  Iris-setosa\n",
      "4            5.0          3.6           1.4          0.2  Iris-setosa\n",
      "5            5.4          3.9           1.7          0.4  Iris-setosa\n",
      "6            4.6          3.4           1.4          0.3  Iris-setosa\n",
      "7            5.0          3.4           1.5          0.2  Iris-setosa\n",
      "8            4.4          2.9           1.4          0.2  Iris-setosa\n",
      "9            4.9          3.1           1.5          0.1  Iris-setosa\n",
      "10           5.4          3.7           1.5          0.2  Iris-setosa\n",
      "11           4.8          3.4           1.6          0.2  Iris-setosa\n",
      "12           4.8          3.0           1.4          0.1  Iris-setosa\n",
      "13           4.3          3.0           1.1          0.1  Iris-setosa\n",
      "14           5.8          4.0           1.2          0.2  Iris-setosa\n",
      "15           5.7          4.4           1.5          0.4  Iris-setosa\n",
      "16           5.4          3.9           1.3          0.4  Iris-setosa\n",
      "17           5.1          3.5           1.4          0.3  Iris-setosa\n",
      "18           5.7          3.8           1.7          0.3  Iris-setosa\n",
      "19           5.1          3.8           1.5          0.3  Iris-setosa\n",
      "       sepal-length  sepal-width  petal-length  petal-width\n",
      "count    150.000000   150.000000    150.000000   150.000000\n",
      "mean       5.843333     3.054000      3.758667     1.198667\n",
      "std        0.828066     0.433594      1.764420     0.763161\n",
      "min        4.300000     2.000000      1.000000     0.100000\n",
      "25%        5.100000     2.800000      1.600000     0.300000\n",
      "50%        5.800000     3.000000      4.350000     1.300000\n",
      "75%        6.400000     3.300000      5.100000     1.800000\n",
      "max        7.900000     4.400000      6.900000     2.500000\n",
      "class\n",
      "Iris-setosa        50\n",
      "Iris-versicolor    50\n",
      "Iris-virginica     50\n",
      "dtype: int64\n"
     ]
    }
   ],
   "source": [
    "print(ds.shape)      # how many rows and columns\n",
    "print(ds.head(20))   # show only the first 20 data\n",
    "print(ds.describe()) # gives details like mean, max, min, etc.\n",
    "print(ds.groupby('class').size())   # group by class name"
   ]
  },
  {
   "cell_type": "code",
   "execution_count": 13,
   "metadata": {},
   "outputs": [
    {
     "data": {
      "image/png": "[encoded data removed]",
      "text/plain": [
       "<Figure size 432x288 with 4 Axes>"
      ]
     },
     "metadata": {},
     "output_type": "display_data"
    }
   ],
   "source": [
    "ds.plot(kind='box', subplots=True, layout=(2,2), sharex=False, sharey=False)\n",
    "plt.show()"
   ]
  },
  {
   "cell_type": "markdown",
   "metadata": {},
   "source": [
    "### 3. Training Data (labeling data)\n",
    "Training data is a group of data used for learning. In order to built a classification\n",
    "model from training data. \n",
    "\n",
    "First, we need to split dataset into two groups\n",
    "one is for `training` and one is for `testing`. As presented in Figure 1, iris.data contain\n",
    "five columns that are sepal length, sepal width, petal length, petal width,\n",
    "and the class label. The class label is the species of iris. In machine learning\n",
    "the class label is used as a `target` for classification."
   ]
  },
  {
   "cell_type": "code",
   "execution_count": 11,
   "metadata": {},
   "outputs": [],
   "source": [
    "# separate features of iris flower from the target\n",
    "array = ds.values\n",
    "X = array[:, 0:4]     # include every row, column_index: 0-4\n",
    "Y = array[:, 4]       # inlude every row, column_index: 4 (or the label of the flowers)"
   ]
  },
  {
   "cell_type": "markdown",
   "metadata": {},
   "source": [
    "X contains four features of iris flowers.  \n",
    "Y contains target name of iris’ species."
   ]
  },
  {
   "cell_type": "code",
   "execution_count": 13,
   "metadata": {},
   "outputs": [],
   "source": [
    "test_size = 0.2\n",
    "seed = 7\n",
    "# split iris.data into two groups \n",
    "X_train, X_test, Y_train, Y_test = model_selection.train_test_split(X, Y, test_size=test_size, random_state=seed)"
   ]
  },
  {
   "cell_type": "markdown",
   "metadata": {},
   "source": [
    "the next step is to built a model for prediction from the training dataset by using machine\n",
    "learning techniques. The simple technique used in this example is **K-nearest\n",
    "Neighbors**.\n",
    "\n",
    "#### K-nearest Neighbors\n",
    "is a machine learning techniques for both classification\n",
    "and regression. In this lab, K-nearest Neighbors will be used as a classification\n",
    "technique, where input is a K-closest training example in the feature space.\n",
    "The output is a class membership. The new object will be classified to the class\n",
    "most common among the majority vote of it k-nearest neighbors.\n",
    "_____\n",
    "Now, we should be ready to create a training set using the Knearest\n",
    "Neighbors techniques. In this case, we use 7 neighbors to identified the\n",
    "new object."
   ]
  },
  {
   "cell_type": "code",
   "execution_count": 24,
   "metadata": {},
   "outputs": [
    {
     "data": {
      "text/plain": [
       "KNeighborsClassifier(algorithm='auto', leaf_size=30, metric='minkowski',\n",
       "           metric_params=None, n_jobs=1, n_neighbors=7, p=2,\n",
       "           weights='uniform')"
      ]
     },
     "execution_count": 24,
     "metadata": {},
     "output_type": "execute_result"
    }
   ],
   "source": [
    "irisML = KNeighborsClassifier(n_neighbors=7)\n",
    "irisML.fit(X_train, Y_train)"
   ]
  },
  {
   "cell_type": "markdown",
   "metadata": {},
   "source": [
    "### 4. Testing"
   ]
  },
  {
   "cell_type": "code",
   "execution_count": 26,
   "metadata": {},
   "outputs": [
    {
     "name": "stdout",
     "output_type": "stream",
     "text": [
      "['Iris-virginica' 'Iris-versicolor' 'Iris-setosa' 'Iris-versicolor'\n",
      " 'Iris-versicolor' 'Iris-setosa' 'Iris-versicolor' 'Iris-versicolor'\n",
      " 'Iris-setosa' 'Iris-versicolor' 'Iris-virginica' 'Iris-versicolor'\n",
      " 'Iris-setosa' 'Iris-virginica' 'Iris-setosa' 'Iris-virginica'\n",
      " 'Iris-virginica' 'Iris-virginica' 'Iris-setosa' 'Iris-setosa'\n",
      " 'Iris-versicolor' 'Iris-virginica' 'Iris-versicolor' 'Iris-virginica'\n",
      " 'Iris-virginica' 'Iris-versicolor' 'Iris-versicolor' 'Iris-versicolor'\n",
      " 'Iris-virginica' 'Iris-virginica']\n"
     ]
    }
   ],
   "source": [
    "prediction = irisML.predict(X_test)\n",
    "print(prediction)"
   ]
  },
  {
   "cell_type": "code",
   "execution_count": 27,
   "metadata": {},
   "outputs": [
    {
     "data": {
      "text/plain": [
       "0.8666666666666667"
      ]
     },
     "execution_count": 27,
     "metadata": {},
     "output_type": "execute_result"
    }
   ],
   "source": [
    "irisML.score(X_test, Y_test)      # measuring how good is the training "
   ]
  },
  {
   "cell_type": "code",
   "execution_count": 33,
   "metadata": {},
   "outputs": [
    {
     "name": "stdout",
     "output_type": "stream",
     "text": [
      "['Iris-virginica']\n"
     ]
    }
   ],
   "source": [
    "new_obj1 = [[5.2,4.3,5.6,1.6]]\n",
    "output1 = irisML.predict(new_obj1)\n",
    "print(output1)"
   ]
  }
 ],
 "metadata": {
  "kernelspec": {
   "display_name": "Python 3",
   "language": "python",
   "name": "python3"
  },
  "language_info": {
   "codemirror_mode": {
    "name": "ipython",
    "version": 3
   },
   "file_extension": ".py",
   "mimetype": "text/x-python",
   "name": "python",
   "nbconvert_exporter": "python",
   "pygments_lexer": "ipython3",
   "version": "3.6.5"
  }
 },
 "nbformat": 4,
 "nbformat_minor": 2
}
